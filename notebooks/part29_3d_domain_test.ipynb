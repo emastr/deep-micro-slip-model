{
 "cells": [
  {
   "cell_type": "code",
   "execution_count": 15,
   "metadata": {},
   "outputs": [
    {
     "name": "stdout",
     "output_type": "stream",
     "text": [
      "dims = [1, 1, 1]\n"
     ]
    }
   ],
   "source": [
    "import numpy as np\n",
    "import sys\n",
    "\n",
    "sys.path.append(\"../\")\n",
    "from matplotlib import pyplot as plt\n",
    "from util.basis_scaled import BasisProduct, FourBasis\n",
    "\n",
    "class Domain3D:\n",
    "    def __init__(self, N:int=10):\n",
    "        self.dims = [1,1,1]\n",
    "        self.basis = [BasisProduct(self.sample_coef(N, N), N, N, FourBasis, FourBasis) for i in range(3)]\n",
    "        \n",
    "    \n",
    "    \n",
    "    def eval(self):\n",
    "        \n",
    "\n",
    "    def sample_coef(self, n, m):\n",
    "        return np.random.rand(n, m)\n",
    "    \n",
    "    def plot(self, ax):\n",
    "        pass\n",
    "    \n",
    "    def __str__(self):\n",
    "        return \"dims = [\" + \", \".join(str(d) for d in self.dims) + \"]\"\n",
    "\n",
    "\n",
    "    \n",
    "dom = Domain3D()\n",
    "print(dom)"
   ]
  }
 ],
 "metadata": {
  "kernelspec": {
   "display_name": "jaxml",
   "language": "python",
   "name": "python3"
  },
  "language_info": {
   "codemirror_mode": {
    "name": "ipython",
    "version": 3
   },
   "file_extension": ".py",
   "mimetype": "text/x-python",
   "name": "python",
   "nbconvert_exporter": "python",
   "pygments_lexer": "ipython3",
   "version": "3.11.5"
  }
 },
 "nbformat": 4,
 "nbformat_minor": 2
}
