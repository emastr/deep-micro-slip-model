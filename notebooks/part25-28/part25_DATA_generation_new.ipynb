{
 "cells": [
  {
   "cell_type": "markdown",
   "id": "43d0d487",
   "metadata": {},
   "source": [
    "## Rounded Micro Domain\n",
    "\n",
    "The micro domain is defined by a bounding box and a smooth function parameterising the floor of the micro domain. "
   ]
  },
  {
   "cell_type": "code",
   "execution_count": 1,
   "id": "ce68e6b1",
   "metadata": {},
   "outputs": [],
   "source": [
    "import sys\n",
    "sys.path.append('/home/emastr/phd/')\n",
    "\n",
    "import torch\n",
    "from boundary_solvers.gauss_grid_2d import *\n",
    "from boundary_solvers.geometry import *\n",
    "import numpy as np\n",
    "import matplotlib.pyplot as plt\n",
    "from util.plot_tools import *\n",
    "from boundary_solvers.blobs import *"
   ]
  },
  {
   "cell_type": "markdown",
   "id": "7d8d610f",
   "metadata": {},
   "source": [
    "## Generating a data set"
   ]
  },
  {
   "cell_type": "code",
   "execution_count": null,
   "id": "c70f7eaf",
   "metadata": {
    "scrolled": true
   },
   "outputs": [
    {
     "name": "stdout",
     "output_type": "stream",
     "text": [
      "1/2000 done\n",
      "Converged in 0 iterations\n",
      "Converged in 0 iterations\n",
      "numerical: -0.8999999385004186, true: -0.9, err: 6.149958e-08\n",
      "numerical: -4.371780759626631e-08, true: 0.0, err: 4.371781e-08\n",
      "2/2000 done\n",
      "Converged in 0 iterations\n",
      "Converged in 0 iterations\n",
      "numerical: -0.8999999669648883, true: -0.9, err: 3.303511e-08\n",
      "numerical: 2.271120624897094e-09, true: 0.0, err: 2.271121e-09\n",
      "3/2000 done\n",
      "Converged in 0 iterations\n",
      "Converged in 0 iterations\n",
      "numerical: -0.8999999581830704, true: -0.8999999999999999, err: 4.181693e-08\n",
      "numerical: 1.2094868662160252e-08, true: 0.0, err: 1.209487e-08\n",
      "4/2000 done\n",
      "Converged in 0 iterations\n",
      "Converged in 0 iterations\n",
      "numerical: -0.8999999454784677, true: -0.9, err: 5.452153e-08\n",
      "numerical: -8.825891129049523e-10, true: 0.0, err: 8.825891e-10\n",
      "5/2000 done\n",
      "Resample # 3\r"
     ]
    }
   ],
   "source": [
    "np.random.seed(0)\n",
    "N = 2000\n",
    "\n",
    "avg1 = lambda a, b: np.real(b**2 - a**2)/2\n",
    "avg2 = lambda a, b: np.imag((b-a)**2)/np.abs(b-a)\n",
    "\n",
    "err1 = []\n",
    "err2 = []\n",
    "for i in range(N):\n",
    "    print(f\"{i+1}/{N} done\", end=\"\\n\")\n",
    "    mg = GPDomain(\"exp\", \n",
    "                  shape=.05, \n",
    "                  num=20, \n",
    "                  scale=.05, \n",
    "                  bound=.3, \n",
    "                  width=1, \n",
    "                  height=1, \n",
    "                  corner_w = 0.3,\n",
    "                  line_pos=np.random.rand()*0.4 + 0.2, \n",
    "                  n_refine=2,#1, \n",
    "                  n_corner_refine=0)    \n",
    "    \n",
    "    r1, func1 = mg.precompute_line_avg(derivative=0, tol=1e-12, maxiter=200, verbose=True)\n",
    "    r2, func2    = mg.precompute_line_avg(derivative=1, tol=1e-12, maxiter=200, verbose=True)\n",
    "    r3, _    = mg.line_eval_adjoint(derivative=0, tol=1e-12, maxiter=200, verbose=True)\n",
    "    r4, _    = mg.line_eval_adjoint(derivative=1, tol=1e-12, maxiter=200, verbose=True)\n",
    "    \n",
    "    \n",
    "    c = 1j + 1\n",
    "    vec = np.conjugate(mg.eval_param()) - c\n",
    "    a = mg.line_pos * 1j - 0.45 * mg.width - c\n",
    "    b = mg.line_pos * 1j + 0.45 * mg.width - c\n",
    "    \n",
    "    f1, f2 = func1(vec), func2(vec)\n",
    "    a1, a2 = avg1(a,b),  avg2(a,b)\n",
    "    e1, e2 = abs(f1-a1), abs(f2-a2)\n",
    "    print(f\"numerical: {f1}, true: {a1}, err: {e1:e}\")\n",
    "    print(f\"numerical: {f2}, true: {a2}, err: {e2:e}\")\n",
    "    \n",
    "    mg.data[\"riesz_vec\"]     = r1\n",
    "    mg.data[\"riesz_vec_der\"] = r2\n",
    "    mg.data[\"line_eval_adjoint\"] = r3\n",
    "    mg.data[\"line_eval_der_adjoint\"] = r4\n",
    "    \n",
    "    err1.append(e1)\n",
    "    err2.append(e2)\n",
    "    mg.save(f\"/home/emastr/phd/data/rounded_micro_domains_w_riesz_vectors/domain_hd_{i}.GPDomain\")"
   ]
  },
  {
   "cell_type": "markdown",
   "id": "f31711a6",
   "metadata": {},
   "source": [
    "Error for 2 times nply refine "
   ]
  },
  {
   "cell_type": "code",
   "execution_count": 19,
   "id": "f725d476",
   "metadata": {},
   "outputs": [
    {
     "data": {
      "text/plain": [
       "(array([0.00136432, 0.        , 0.        , 0.00682158, 0.00545726,\n",
       "        0.01910042, 0.04911537, 0.11869547, 0.27968473, 0.55936946,\n",
       "        0.98230735, 0.55118357, 0.07230874, 0.03547221, 0.01500747,\n",
       "        0.0177361 , 0.00818589, 0.00545726, 0.        , 0.00136432]),\n",
       " array([-11.74496754, -11.37848346, -11.01199938, -10.64551531,\n",
       "        -10.27903123,  -9.91254716,  -9.54606308,  -9.17957901,\n",
       "         -8.81309493,  -8.44661086,  -8.08012678,  -7.7136427 ,\n",
       "         -7.34715863,  -6.98067455,  -6.61419048,  -6.2477064 ,\n",
       "         -5.88122233,  -5.51473825,  -5.14825418,  -4.7817701 ,\n",
       "         -4.41528602]),\n",
       " <BarContainer object of 20 artists>)"
      ]
     },
     "execution_count": 19,
     "metadata": {},
     "output_type": "execute_result"
    },
    {
     "data": {
      "image/png": "[encoded data removed]",
      "text/plain": [
       "<Figure size 432x288 with 1 Axes>"
      ]
     },
     "metadata": {
      "needs_background": "light"
     },
     "output_type": "display_data"
    }
   ],
   "source": [
    "plt.hist([np.log10(e) for e in err1], bins=20, density=True, alpha=0.8)\n",
    "plt.hist([np.log10(e) for e in err2], bins=20, density=True, alpha=0.7)"
   ]
  },
  {
   "cell_type": "markdown",
   "id": "52bf3622",
   "metadata": {},
   "source": [
    "Error for 1 times nply refine"
   ]
  },
  {
   "cell_type": "code",
   "execution_count": 17,
   "id": "ee3c70bf",
   "metadata": {},
   "outputs": [
    {
     "data": {
      "text/plain": [
       "(array([0.00561911, 0.00786676, 0.01910499, 0.05169585, 0.12474433,\n",
       "        0.22925985, 0.28432716, 0.24274572, 0.23600278, 0.22364073,\n",
       "        0.21914544, 0.20565957, 0.17868782, 0.11125846, 0.06068643,\n",
       "        0.03708615, 0.00786676, 0.00112382, 0.        , 0.00112382]),\n",
       " array([-10.1292961 ,  -9.6843861 ,  -9.23947609,  -8.79456609,\n",
       "         -8.34965608,  -7.90474608,  -7.45983607,  -7.01492607,\n",
       "         -6.57001606,  -6.12510605,  -5.68019605,  -5.23528604,\n",
       "         -4.79037604,  -4.34546603,  -3.90055603,  -3.45564602,\n",
       "         -3.01073602,  -2.56582601,  -2.12091601,  -1.676006  ,\n",
       "         -1.23109599]),\n",
       " <BarContainer object of 20 artists>)"
      ]
     },
     "execution_count": 17,
     "metadata": {},
     "output_type": "execute_result"
    },
    {
     "data": {
      "image/png": "[encoded data removed]",
      "text/plain": [
       "<Figure size 432x288 with 1 Axes>"
      ]
     },
     "metadata": {
      "needs_background": "light"
     },
     "output_type": "display_data"
    }
   ],
   "source": [
    "plt.hist([np.log10(e) for e in err1], bins=20, density=True, alpha=0.8)\n",
    "plt.hist([np.log10(e) for e in err2], bins=20, density=True, alpha=0.7)"
   ]
  },
  {
   "cell_type": "markdown",
   "id": "56b534b1",
   "metadata": {},
   "source": [
    "# Convert to PyTorch Tensor\n",
    "\n",
    "Load the geography objects from disk and convert into a big Tensor for easy loading."
   ]
  },
  {
   "cell_type": "code",
   "execution_count": 21,
   "id": "876aef96",
   "metadata": {
    "scrolled": true
   },
   "outputs": [
    {
     "name": "stdout",
     "output_type": "stream",
     "text": [
      "2000/2000 done\r"
     ]
    }
   ],
   "source": [
    "N = 2000\n",
    "M = len(r1)\n",
    "\n",
    "in_ch = [\"zr\", \"zi\", \"dzr\", \"dzi\", \"ddzr\", \"ddzi\", \"line_eval_r\", \"line_eval_i\", \"w\", \"t\"]\n",
    "out_ch = [\"riesz_r\", \"riesz_i\"]\n",
    "\n",
    "in_data = torch.zeros(N, len(in_ch), M)\n",
    "out_data = torch.zeros(N, len(out_ch), M)\n",
    "\n",
    "for i in range(N):\n",
    "    print(f\"{i+1}/{N} done\", end=\"\\r\")\n",
    "    data = torch.load(f\"/home/emastr/phd/data/rounded_micro_domains_w_riesz_vectors/domain_hd_{i}.GPDomain\")\n",
    "    riesz = data.pop(\"riesz_vec\")\n",
    "    line_eval = data.pop(\"line_eval_adjoint\")\n",
    "    data.pop(\"riesz_vec_der\")\n",
    "    data.pop(\"line_eval_der_adjoint\")\n",
    "    \n",
    "    geom = GPDomain.load(data)\n",
    "    t, w = geom.grid.get_grid_and_weights()\n",
    "    z = geom.eval_param(derivative=0)\n",
    "    dz = geom.eval_param(derivative=1)\n",
    "    ddz = geom.eval_param(derivative=2)\n",
    "    \n",
    "    n = dz/np.abs(dz)\n",
    "    r = np.imag(dz * np.conjugate(ddz))/np.abs(dz)**3 * n\n",
    "    \n",
    "    # Set in data\n",
    "    in_data[i, 0, :] = torch.from_numpy(np.real(z))\n",
    "    in_data[i, 1, :] = torch.from_numpy(np.imag(z))\n",
    "    in_data[i, 2, :] = torch.from_numpy(np.real(dz))\n",
    "    in_data[i, 3, :] = torch.from_numpy(np.imag(dz))\n",
    "    in_data[i, 4, :] = torch.from_numpy(np.real(ddz))\n",
    "    in_data[i, 5, :] = torch.from_numpy(np.imag(ddz))\n",
    "    in_data[i, 6, :] = torch.from_numpy(np.real(line_eval))\n",
    "    in_data[i, 7, :] = torch.from_numpy(np.imag(line_eval))\n",
    "    in_data[i, 8, :] = torch.from_numpy(w)\n",
    "    in_data[i, 9, :] = torch.from_numpy(t)\n",
    "    \n",
    "    # set out data\n",
    "    out_data[i, 0, :] = torch.from_numpy(np.real(riesz))\n",
    "    out_data[i, 1, :] = torch.from_numpy(np.imag(riesz))\n",
    "    \n",
    "\n",
    "# Save data to file\n",
    "data = {\"X\": in_data, \"Y\": out_data, \"info\": {\"in_ch\": in_ch, \"out_ch\": out_ch}}\n",
    "torch.save(data, \"/home/emastr/phd/data/problem_data_riesz2_TEST.torch\")\n",
    "    "
   ]
  },
  {
   "cell_type": "code",
   "execution_count": 22,
   "id": "add26a17",
   "metadata": {},
   "outputs": [
    {
     "name": "stdout",
     "output_type": "stream",
     "text": [
      "6.353230435067785\n",
      "6.362851742436269\n"
     ]
    }
   ],
   "source": [
    "mg.grid.integrate(lambda t: np.ones_like(t)) / (2*np.pi)\n",
    "\n",
    "t,_ = mg.grid.get_grid_and_weights()\n",
    "dz = mg.eval_param(derivative=1)\n",
    "\n",
    "print(mg.grid.integrate(lambda t: np.abs(mg.eval_param(derivative=1))))\n",
    "print(np.sum(np.abs(dz)[:-1] * (t[1:]-t[:-1])))"
   ]
  }
 ],
 "metadata": {
  "kernelspec": {
   "display_name": "Physics Informed Machine Learning Environment",
   "language": "python",
   "name": "pimlenv"
  },
  "language_info": {
   "codemirror_mode": {
    "name": "ipython",
    "version": 3
   },
   "file_extension": ".py",
   "mimetype": "text/x-python",
   "name": "python",
   "nbconvert_exporter": "python",
   "pygments_lexer": "ipython3",
   "version": "3.8.12"
  }
 },
 "nbformat": 4,
 "nbformat_minor": 5
}
