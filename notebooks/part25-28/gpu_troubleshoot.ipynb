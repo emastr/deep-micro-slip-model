{
 "cells": [
  {
   "cell_type": "markdown",
   "metadata": {},
   "source": [
    "``lspci`` shows two NVIDIA 1e4 rev a1 devices at ``0a:00.0``, ``0b:00.0.``\n"
   ]
  }
 ],
 "metadata": {
  "language_info": {
   "name": "python"
  },
  "orig_nbformat": 4
 },
 "nbformat": 4,
 "nbformat_minor": 2
}
