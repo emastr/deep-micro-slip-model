{
 "cells": [
  {
   "attachments": {},
   "cell_type": "markdown",
   "id": "43d0d487",
   "metadata": {},
   "source": [
    "## Rounded Micro Domain\n",
    "\n",
    "The micro domain is defined by a bounding box and a smooth function parameterising the floor of the micro domain. "
   ]
  },
  {
   "cell_type": "code",
   "execution_count": 1,
   "id": "ce68e6b1",
   "metadata": {},
   "outputs": [],
   "source": [
    "import sys\n",
    "sys.path.append('/home/emastr/phd/')\n",
    "\n",
    "import torch\n",
    "from boundary_solvers.gauss_grid_2d import *\n",
    "from boundary_solvers.geometry import *\n",
    "import numpy as np\n",
    "import matplotlib.pyplot as plt\n",
    "from util.plot_tools import *\n",
    "from boundary_solvers.blobs import *\n",
    "from pynufft import NUFFT_torch, helper\n",
    "\n",
    "path = \"/home/emastr/phd/data/micro_geometries_boundcurv\""
   ]
  },
  {
   "attachments": {},
   "cell_type": "markdown",
   "id": "7d8d610f",
   "metadata": {},
   "source": [
    "## Generating a data set"
   ]
  },
  {
   "cell_type": "code",
   "execution_count": 2,
   "id": "c70f7eaf",
   "metadata": {
    "scrolled": true
   },
   "outputs": [
    {
     "name": "stdout",
     "output_type": "stream",
     "text": [
      "58/4000 done. TEST > numerical: -1.33, true: -1.33, difference: 7.68e-08, worst: 1.11e-06, idx: 39\r"
     ]
    }
   ],
   "source": [
    "np.random.seed(0)\n",
    "N = 4000\n",
    "plt.figure(figsize=(15,15))\n",
    "riesz = []\n",
    "zvec = []\n",
    "\n",
    "worst_error = 0.\n",
    "worst_idx = 0\n",
    "\n",
    "default_parameters = {\"kernel\": \"exp\", \"shape\":.05, \"num\":20, \"scale\":.05, \"bound\":.3, \"verbose\": False, \"width\":1, \"height\":1, \"corner_w\":0.3, \"line_pos\":0.1, \"n_refine\":2, \"n_corner_refine\":0}\n",
    "#randomisers = {\"width\": lambda: 0.5 + np.random.rand()*0.5, \"scale\": lambda: 0.01 + 10 ** (-np.random.rand()-1), \"height\": lambda: 0.5 + np.random.rand()*0.5, \"corner_w\": lambda: np.random.rand()*0.3 + 0.1, \"line_pos\": lambda: np.random.rand()*0.2 + 0.05}\n",
    "randomisers = {\"width\": lambda: 0.5 + np.random.rand()*0.5, \n",
    "               \"scale\": lambda: 0.01 + 10 ** (-np.random.rand()-1), \n",
    "               \"height\": lambda: 0.7 + np.random.rand()*0.5, \n",
    "               \"corner_w\": lambda: np.random.rand()*0.2 + 0.1, \n",
    "               \"line_pos\": lambda: np.random.rand()*0.1 + 0.1}\n",
    "to_randomise = [\"height\", \"corner_w\", \"line_pos\", \"scale\"]\n",
    "#to_randomise = [\"height\", \"line_pos\", \"corner_w\"]\n",
    "#to_randomise = [\"line_pos\"]\n",
    "for i in range(N):\n",
    "    kwargs = {**default_parameters}\n",
    "    for key in to_randomise:\n",
    "        kwargs[key] = randomisers[key]()\n",
    "    mg = GPDomain(**kwargs)\n",
    "    \n",
    "    r1, func = mg.precompute_line_avg(derivative=0, tol=1e-12, maxiter=200, verbose=False)\n",
    "    r2, _    = mg.precompute_line_avg(derivative=1, tol=1e-12, maxiter=200, verbose=False)\n",
    "    r3, _    = mg.line_eval_adjoint(derivative=0, tol=1e-12, maxiter=200, verbose=False)\n",
    "    r4, _    = mg.line_eval_adjoint(derivative=1, tol=1e-12, maxiter=200, verbose=False)\n",
    "    \n",
    "    \n",
    "    c = 1j + 1\n",
    "    vec = np.conjugate(mg.eval_param()) - c\n",
    "    a = mg.line_left - c\n",
    "    b = mg.line_right - c\n",
    "    \n",
    "    num = func(vec)\n",
    "    tru = np.real(b**2 - a**2)/2\n",
    "    dif = abs(num - tru)\n",
    "    worst_error = max(worst_error, dif)\n",
    "    worst_idx = i if dif == worst_error else worst_idx\n",
    "    print(f\"{i+1}/{N} done. TEST > numerical: {num:.2f}, true: {tru:.2f}, difference: {dif:.2e}, worst: {worst_error:.2e}, idx: {worst_idx}\", end=\"\\r\")\n",
    "    \n",
    "    mg.data[\"precomp\"]     = r1\n",
    "    mg.data[\"precomp_der\"] = r2\n",
    "    mg.data[\"intermediate_precomp\"] = r3\n",
    "    mg.data[\"intermediate_precomp_der\"] = r4\n",
    "    mg.data[\"error\"] = dif\n",
    "    \n",
    "    #mg.plot(ax=plt.gca(), shownormals=True, showpts=True, npts=500)\n",
    "    #mg.plot(ax=plt.gca(), npts=300)\n",
    "    \n",
    "    mg.save(f\"{path}/domain_{i}.GPDomain\")"
   ]
  },
  {
   "cell_type": "code",
   "execution_count": 16,
   "id": "4515d322",
   "metadata": {},
   "outputs": [
    {
     "data": {
      "image/png": "[encoded data removed]",
      "text/plain": [
       "<Figure size 288x720 with 6 Axes>"
      ]
     },
     "metadata": {},
     "output_type": "display_data"
    }
   ],
   "source": [
    "plt.figure(figsize=(4,10))\n",
    "n = 3\n",
    "i0 = 0\n",
    "for i in range(2*n):\n",
    "    plt.subplot(n,2, i+1)\n",
    "    data = torch.load(f\"{path}/domain_{i0 + i}.GPDomain\")\n",
    "    data.pop(\"precomp\")\n",
    "    data.pop(\"precomp_der\")\n",
    "    data.pop(\"intermediate_precomp\")\n",
    "    data.pop(\"intermediate_precomp_der\")\n",
    "    data.pop(\"error\")\n",
    "    \n",
    "    GPDomain.load(data).plot(ax=plt.gca(), npts=300, show_samples=False, show_rounded=False)\n",
    "    remove_axes(plt.gca())\n",
    "    #plt.plot([-1,1], [0,0], \"k--\")\n",
    "    plt.xlim([-1.2,1.2])\n",
    "    plt.ylim([-1.0,1.3])\n",
    "    plt.axis(\"equal\")\n",
    "    #plt.axis(\"equal\")"
   ]
  },
  {
   "attachments": {},
   "cell_type": "markdown",
   "id": "56b534b1",
   "metadata": {},
   "source": [
    "# Convert to PyTorch Tensor"
   ]
  },
  {
   "attachments": {},
   "cell_type": "markdown",
   "id": "98102d81",
   "metadata": {},
   "source": [
    "### Reparameterise (old)"
   ]
  },
  {
   "cell_type": "code",
   "execution_count": null,
   "id": "21041314",
   "metadata": {},
   "outputs": [
    {
     "name": "stdout",
     "output_type": "stream",
     "text": [
      "20000/20000 done\r"
     ]
    }
   ],
   "source": [
    "from scipy.interpolate import interp1d\n",
    "\n",
    "def reparameterize_data(t, dt, data, k_max=None):\n",
    "    \"\"\"Reparameterize the data to be a function of t in [0,1].\n",
    "    Uses fouier series with 2*k_max+1 terms.\"\"\"    \n",
    "    #dtype = torch.complex64\n",
    "\n",
    "    data_np = data.numpy()\n",
    "    t_np = t\n",
    "    f = interp1d(t_np, data_np, axis=-1)\n",
    "    t_np = np.linspace(0, 2*np.pi, data.shape[1]+1)[:-1]\n",
    "    data_np = f(t_np)\n",
    "    \n",
    "    return torch.from_numpy(data_np)\n",
    "\n",
    "# 200 000 data points, we run through\n",
    "import os\n",
    "dir = \"/home/emastr/phd/data/micro_geometries_boundcurv_line_pos_repar_torch/\"\n",
    "\n",
    "os.makedirs(dir, exist_ok=True)\n",
    "N = 2000\n",
    "M = 512\n",
    "reparameterize = \"uniform\"\n",
    "err = []\n",
    "idx = []\n",
    "\n",
    "for j in range(10):\n",
    "    start = j * N\n",
    "    \n",
    "\n",
    "    in_ch = [\"zr\", \"zi\", \"dzr\", \"dzi\", \"ddzr\", \"ddzi\", \"inter_precomp_r\", \"inter_precomp_i\", \"inter_precomp_der_r\", \"inter_precomp_der_i\", \"w\", \"t\"]\n",
    "    out_ch = [\"precomp_r\", \"precomp_i\", \"precomp_der_r\", \"precomp_der_i\"]\n",
    "\n",
    "    in_data = torch.zeros(N, len(in_ch), M)\n",
    "    out_data = torch.zeros(N, len(out_ch), M)\n",
    "    \n",
    "    for i in range(N):\n",
    "        print(f\"{start + i + 1}/{20000} done\", end=\"\\r\")\n",
    "        data = torch.load(f\"/home/emastr/phd/data/micro_geometries_boundcurv/domain_{start + i}.GPDomain\")\n",
    "        precomp = data.pop(\"precomp\")\n",
    "        inter_precomp = data.pop(\"intermediate_precomp\")\n",
    "        precomp_der = data.pop(\"precomp_der\")\n",
    "        inter_precomp_der = data.pop(\"intermediate_precomp_der\")\n",
    "        \n",
    "        err.append(data.pop(\"error\"))\n",
    "        idx.append(start + i)\n",
    "        \n",
    "        geom = GPDomain.load(data)\n",
    "        t, w = geom.grid.get_grid_and_weights()\n",
    "        z = geom.eval_param(derivative=0)\n",
    "        dz = geom.eval_param(derivative=1)\n",
    "        ddz = geom.eval_param(derivative=2)\n",
    "\n",
    "        #n = dz/np.abs(dz)\n",
    "        #r = np.imag(dz * np.conjugate(ddz))/np.abs(dz)**3 * n\n",
    "\n",
    "        # Set in data\n",
    "        in_data[i, 0, :] = torch.from_numpy(np.real(z))\n",
    "        in_data[i, 1, :] = torch.from_numpy(np.imag(z))\n",
    "        in_data[i, 2, :] = torch.from_numpy(np.real(dz))\n",
    "        in_data[i, 3, :] = torch.from_numpy(np.imag(dz))\n",
    "        in_data[i, 4, :] = torch.from_numpy(np.real(ddz))\n",
    "        in_data[i, 5, :] = torch.from_numpy(np.imag(ddz))\n",
    "        in_data[i, 6, :] = torch.from_numpy(np.real(inter_precomp))\n",
    "        in_data[i, 7, :] = torch.from_numpy(np.imag(inter_precomp))\n",
    "        in_data[i, 8, :] = torch.from_numpy(np.real(inter_precomp_der))\n",
    "        in_data[i, 9, :] = torch.from_numpy(np.imag(inter_precomp_der))\n",
    "        in_data[i, 10, :] = torch.from_numpy(w)\n",
    "        in_data[i, 11, :] = torch.from_numpy(t)\n",
    "\n",
    "        # set out data\n",
    "        out_data[i, 0, :] = torch.from_numpy(np.real(precomp))\n",
    "        out_data[i, 1, :] = torch.from_numpy(np.imag(precomp))\n",
    "        out_data[i, 2, :] = torch.from_numpy(np.real(precomp_der))\n",
    "        out_data[i, 3, :] = torch.from_numpy(np.imag(precomp_der))\n",
    "\n",
    "\n",
    "        if reparameterize == \"arclen\":\n",
    "            dt = np.zeros_like(t)\n",
    "            dt[:-1] = t[1:] - t[:-1]\n",
    "            dt[-1] = 2*np.pi - t[-1]\n",
    "            l = np.cumsum(np.abs(dz) * dt)\n",
    "            L = l[-1]\n",
    "            l = np.roll(l, 1) / L *2*np.pi\n",
    "            l[0] = 0.\n",
    "            dl = np.abs(dz) * 2*np.pi / L * dt\n",
    "            out_data[i, :, :] = reparameterize_data(l, dl, out_data[i, :, :], k_max=41)\n",
    "            in_data[i, :, :] = reparameterize_data(l, dl, in_data[i, :, :], k_max=101)\n",
    "            in_data[i, -1, :] = torch.linspace(0, 2*np.pi, M+1)[:-1]\n",
    "            in_data[i, -2, :] = torch.ones(M) * 2*np.pi / M\n",
    "        \n",
    "        if reparameterize == \"uniform\":\n",
    "            dt = np.zeros_like(t)\n",
    "            out_data[i, :, :] = reparameterize_data(t, dt, out_data[i, :, :], k_max=41)\n",
    "            in_data[i, :, :] = reparameterize_data(t, dt, in_data[i, :, :], k_max=101)\n",
    "            in_data[i, -1, :] = torch.linspace(0, 2*np.pi, M+1)[:-1]\n",
    "            in_data[i, -2, :] = torch.ones(M) * 2*np.pi / M\n",
    "\n",
    "        #plt.plot(l, in_data[i, 6, :], label=\"reparam\")\n",
    "        #plt.plot(in_data[i, -1, :], in_data[i, 1, :], label=\"reparam\")\n",
    "        #plt.legend()\n",
    "        #plt.xlim([0,0.1])\n",
    "        # Save data to file\n",
    "    data = {\"X\": in_data, \"Y\": out_data, \"info\": {\"in_ch\": in_ch, \"out_ch\": out_ch}}\n",
    "    torch.save(data, f\"{dir}data_{j}.torch\")\n",
    "        #breakb\n"
   ]
  },
  {
   "attachments": {},
   "cell_type": "markdown",
   "id": "e6546d19",
   "metadata": {},
   "source": [
    "### Reparameterisation + Coordinate tfm"
   ]
  },
  {
   "cell_type": "code",
   "execution_count": null,
   "id": "bf54acd6",
   "metadata": {},
   "outputs": [
    {
     "name": "stdout",
     "output_type": "stream",
     "text": [
      "41/20000 done\r"
     ]
    },
    {
     "name": "stdout",
     "output_type": "stream",
     "text": [
      "saved {j}0 done\n",
      "saved {j}0 done\n"
     ]
    }
   ],
   "source": [
    "from scipy.interpolate import interp1d\n",
    "\n",
    "def reparameterize_data(t, dt, data, M=None):\n",
    "    \"\"\"Reparameterize the data to be a function of t in [0,1].\n",
    "    Uses fouier series with 2*k_max+1 terms.\"\"\"    \n",
    "    #dtype = torch.complex64\n",
    "\n",
    "    if M is None:\n",
    "        M = len(t)\n",
    "    data_np = data.numpy()\n",
    "    t_np = t\n",
    "    f = interp1d(t_np, data_np, axis=-1)\n",
    "    t_np = np.linspace(0, 2*np.pi, M+1)[:-1]\n",
    "    data_np = f(t_np)\n",
    "    \n",
    "    return torch.from_numpy(data_np)\n",
    "\n",
    "# 200 000 data points, we run through\n",
    "import os\n",
    "dir = \"/home/emastr/phd/data/micro_geometries_boundcurv_repar_256_torch/\"\n",
    "geom_dir = \"/home/emastr/phd/data/micro_geometries_boundcurv\"\n",
    "\n",
    "os.makedirs(dir, exist_ok=True)\n",
    "N = 2000\n",
    "M = 512#512\n",
    "reparameterize = \"arclen\" # uniform / arclen\n",
    "Mout = 256\n",
    "err = []\n",
    "idx = []\n",
    "\n",
    "for j in range(2):\n",
    "    start = j * N\n",
    "    \n",
    "\n",
    "    in_ch = [\"zr\", \"zi\", \"dzr\", \"dzi\", \"ddzr\", \"ddzi\", \"inter_precomp_r\", \"inter_precomp_i\", \"inter_precomp_der_r\", \"inter_precomp_der_i\", \"w\", \"t\"]\n",
    "    out_ch = [\"precomp_r\", \"precomp_i\", \"precomp_der_r\", \"precomp_der_i\"]\n",
    "\n",
    "    in_data = torch.zeros(N, len(in_ch), M)\n",
    "    out_data = torch.zeros(N, len(out_ch), M)\n",
    "\n",
    "    in_tmp = torch.zeros(N, len(in_ch), Mout)\n",
    "    out_tmp = torch.zeros(N, len(out_ch), Mout)\n",
    "    \n",
    "    for i in range(N):\n",
    "        print(f\"{start + i + 1}/{20000} done\", end=\"\\r\")\n",
    "        data = torch.load(f\"{geom_dir}/domain_{start + i}.GPDomain\")\n",
    "        precomp = data.pop(\"precomp\")\n",
    "        inter_precomp = data.pop(\"intermediate_precomp\")\n",
    "        precomp_der = data.pop(\"precomp_der\")\n",
    "        inter_precomp_der = data.pop(\"intermediate_precomp_der\")\n",
    "        \n",
    "        err.append(data.pop(\"error\"))\n",
    "        idx.append(start + i)\n",
    "        \n",
    "        geom = GPDomain.load(data)\n",
    "        t, w = geom.grid.get_grid_and_weights()\n",
    "        z = geom.eval_param(derivative=0)\n",
    "        dz = geom.eval_param(derivative=1)\n",
    "        ddz = geom.eval_param(derivative=2)\n",
    "\n",
    "        #n = dz/np.abs(dz)\n",
    "        #r = np.imag(dz * np.conjugate(ddz))/np.abs(dz)**3 * n\n",
    "\n",
    "        # Set in data\n",
    "        in_data[i, 0, :] = torch.from_numpy(np.real(z))\n",
    "        in_data[i, 1, :] = torch.from_numpy(np.imag(z))\n",
    "        in_data[i, 2, :] = torch.from_numpy(np.real(dz))\n",
    "        in_data[i, 3, :] = torch.from_numpy(np.imag(dz))\n",
    "        in_data[i, 4, :] = torch.from_numpy(np.real(ddz))\n",
    "        in_data[i, 5, :] = torch.from_numpy(np.imag(ddz))\n",
    "        in_data[i, 6, :] = torch.from_numpy(np.real(inter_precomp))\n",
    "        in_data[i, 7, :] = torch.from_numpy(np.imag(inter_precomp))\n",
    "        in_data[i, 8, :] = torch.from_numpy(np.real(inter_precomp_der))\n",
    "        in_data[i, 9, :] = torch.from_numpy(np.imag(inter_precomp_der))\n",
    "        in_data[i, 10, :] = torch.from_numpy(w)\n",
    "        in_data[i, 11, :] = torch.from_numpy(t)\n",
    "\n",
    "        # set out data\n",
    "        out_data[i, 0, :] = torch.from_numpy(np.real(precomp))\n",
    "        out_data[i, 1, :] = torch.from_numpy(np.imag(precomp))\n",
    "        out_data[i, 2, :] = torch.from_numpy(np.real(precomp_der))\n",
    "        out_data[i, 3, :] = torch.from_numpy(np.imag(precomp_der))\n",
    "\n",
    "\n",
    "        if reparameterize == \"arclen\":\n",
    "            dt = np.zeros_like(t)\n",
    "            dt[:-1] = t[1:] - t[:-1]\n",
    "            dt[-1] = 2*np.pi - t[-1]\n",
    "            l = np.cumsum(np.abs(dz) * dt)\n",
    "            L = l[-1]\n",
    "            l = np.roll(l, 1) / L *2*np.pi\n",
    "            l[0] = 0.\n",
    "            dl = np.abs(dz) * 2*np.pi / L * dt\n",
    "            \n",
    "            out_tmp[i, :, :] = reparameterize_data(l, dl, out_data[i, :, :], M=Mout)\n",
    "            in_tmp[i, :, :] = reparameterize_data(l, dl, in_data[i, :, :], M=Mout)\n",
    "            in_tmp[i, -1, :] = torch.linspace(0, 2*np.pi, Mout+1)[:-1]\n",
    "            in_tmp[i, -2, :] = torch.ones(Mout) * 2*np.pi / Mout\n",
    "        \n",
    "        if reparameterize == \"uniform\":\n",
    "            \n",
    "            dt = np.zeros_like(t)\n",
    "            t_ext = np.concatenate([t-2*np.pi, t, t+2*np.pi])\n",
    "            out_ext = torch.cat((out_data[i, :, :], out_data[i, :, :], out_data[i, :, :]), dim=1)\n",
    "            inp_ext = torch.cat((in_data[i, :, :], in_data[i, :, :], in_data[i, :, :]), dim=1)\n",
    "\n",
    "            out_tmp[i, :, :] = reparameterize_data(t_ext, dt, out_ext, M=Mout)\n",
    "            in_tmp[i, :, :] = reparameterize_data(t_ext, dt, inp_ext, M=Mout)\n",
    "            in_tmp[i, -1, :] = torch.linspace(0, 2*np.pi, Mout+1)[:-1]\n",
    "            in_tmp[i, -2, :] = torch.ones(Mout) * 2*np.pi / Mout\n",
    "\n",
    "\n",
    "        #plt.plot(l, in_data[i, 6, :], label=\"reparam\")\n",
    "        #plt.plot(in_data[i, -1, :], in_data[i, 1, :], label=\"reparam\")\n",
    "        #plt.legend()\n",
    "        #plt.xlim([0,0.1])\n",
    "        # Save data to file\n",
    "        \n",
    "    out_data = out_tmp\n",
    "    in_data = in_tmp\n",
    "    data = {\"X\": in_data, \"Y\": out_data, \"info\": {\"in_ch\": in_ch, \"out_ch\": out_ch}}\n",
    "    torch.save(data, f\"{dir}data_{j}.torch\")    \n",
    "    print(f\"saved {j}\") #breakb\n"
   ]
  },
  {
   "cell_type": "code",
   "execution_count": null,
   "id": "12360825",
   "metadata": {},
   "outputs": [
    {
     "name": "stdout",
     "output_type": "stream",
     "text": [
      "486/20000 done\r"
     ]
    },
    {
     "name": "stdout",
     "output_type": "stream",
     "text": [
      "4000/20000 done\r"
     ]
    }
   ],
   "source": [
    "# 200 000 data points, we run through\n",
    "import os\n",
    "dir = \"/home/emastr/phd/data/micro_geometries_boundcurv\"\n",
    "\n",
    "os.makedirs(dir, exist_ok=True)\n",
    "N = 2000\n",
    "M = 512\n",
    "reparameterize = False\n",
    "err = []\n",
    "idx = []\n",
    "\n",
    "for j in range(2):\n",
    "    start = j * N\n",
    "    \n",
    "\n",
    "    in_ch = [\"zr\", \"zi\", \"dzr\", \"dzi\", \"ddzr\", \"ddzi\", \"inter_precomp_r\", \"inter_precomp_i\", \"inter_precomp_der_r\", \"inter_precomp_der_i\", \"w\", \"t\"]\n",
    "    out_ch = [\"precomp_r\", \"precomp_i\", \"precomp_der_r\", \"precomp_der_i\"]\n",
    "\n",
    "    in_data = torch.zeros(N, len(in_ch), M)\n",
    "    out_data = torch.zeros(N, len(out_ch), M)\n",
    "    \n",
    "    for i in range(N):\n",
    "        print(f\"{start + i + 1}/{20000} done\", end=\"\\r\")\n",
    "        data = torch.load(f\"{dir}/domain_{start + i}.GPDomain\")\n",
    "        err.append(data.pop(\"error\"))\n",
    "        idx.append(j*N + i)"
   ]
  },
  {
   "cell_type": "code",
   "execution_count": null,
   "id": "c9c2f07f",
   "metadata": {},
   "outputs": [
    {
     "data": {
      "text/plain": [
       "[<matplotlib.lines.Line2D at 0x7f3ffce01850>]"
      ]
     },
     "execution_count": 8,
     "metadata": {},
     "output_type": "execute_result"
    },
    {
     "data": {
      "image/png": "[encoded data removed]",
      "text/plain": [
       "<Figure size 432x288 with 1 Axes>"
      ]
     },
     "metadata": {
      "needs_background": "light"
     },
     "output_type": "display_data"
    }
   ],
   "source": [
    "plt.plot(idx, err)"
   ]
  },
  {
   "cell_type": "code",
   "execution_count": null,
   "id": "17d7b3f9",
   "metadata": {},
   "outputs": [
    {
     "name": "stdout",
     "output_type": "stream",
     "text": [
      "8.238881843425361e-08\n"
     ]
    },
    {
     "data": {
      "text/plain": [
       "[<matplotlib.lines.Line2D at 0x7fc6ffe42fd0>]"
      ]
     },
     "execution_count": 14,
     "metadata": {},
     "output_type": "execute_result"
    },
    {
     "data": {
      "image/png": "[encoded data removed]",
      "text/plain": [
       "<Figure size 432x288 with 1 Axes>"
      ]
     },
     "metadata": {
      "needs_background": "light"
     },
     "output_type": "display_data"
    },
    {
     "data": {
      "image/png": "[encoded data removed]",
      "text/plain": [
       "<Figure size 432x288 with 1 Axes>"
      ]
     },
     "metadata": {
      "needs_background": "light"
     },
     "output_type": "display_data"
    }
   ],
   "source": [
    "idx_max = idx[np.argsort(err)[-1]]\n",
    "#plt.plot(idx, err)\n",
    "data = torch.load(f\"/home/emastr/phd/data/micro_geometries_line_pos/domain_{idx_max}.GPDomain\")\n",
    "r = data.pop(\"precomp\")\n",
    "data.pop(\"intermediate_precomp\")\n",
    "data.pop(\"precomp_der\")\n",
    "data.pop(\"intermediate_precomp_der\")\n",
    "print(data.pop(\"error\"))\n",
    "\n",
    "geom = GPDomain.load(data)\n",
    "geom.plot(ax=plt.gca(), showpts=True)\n",
    "plt.axis(\"equal\")\n",
    "\n",
    "plt.figure()\n",
    "t, _ = geom.grid.get_grid_and_weights()\n",
    "z = geom.eval_param(derivative=1)\n",
    "plt.plot(t, r.imag)\n",
    "plt.plot(t, z.imag)\n"
   ]
  },
  {
   "attachments": {},
   "cell_type": "markdown",
   "id": "d0e26d07",
   "metadata": {},
   "source": [
    "### Symmetries\n",
    "\n",
    "* Output is invariant to rescaling\n",
    "* Output is equivariant to rotation"
   ]
  },
  {
   "cell_type": "code",
   "execution_count": null,
   "id": "ae196e1a",
   "metadata": {},
   "outputs": [],
   "source": [
    "grid = GaussLegGrid(np.array([0, 2*np.pi]))\n",
    "grid.refine_all_nply(5)\n",
    "\n",
    "\n",
    "z = lambda t: np.exp(1j*t) * (1 + 0.1*np.cos(5*t))\n",
    "dz = lambda t: 1j*np.exp(1j*t) * (1 + 0.1*np.cos(5*t)) - 0.5*np.exp(1j*t)*np.sin(5*t)\n",
    "ddz = lambda t: -np.exp(1j*t) * (1 + 0.1*np.cos(5*t)) - 0.5j*np.exp(1j*t)*np.sin(5*t) - 2.5*np.exp(1j*t)*np.cos(5*t)\n",
    "\n",
    "s = 3.\n",
    "t, _ = grid.get_grid_and_weights()\n",
    "\n",
    "geom = Geometry([z, dz, ddz], grid)\n",
    "geom_scale = Geometry([lambda t: s*z(t), lambda t: s*dz(t), lambda t: s**2*ddz(t)], grid)\n",
    "\n",
    "avg_pre, _ = geom.line_eval_adjoint(-0.4, 0.4, derivative=0, tol=1e-12, maxiter=200, verbose=False)\n",
    "avg, _ = geom.precompute_line_avg(-0.4, 0.4, derivative=0, tol=1e-12, maxiter=200, verbose=False)\n",
    "\n",
    "avg_pre_scale, _ = geom_scale.line_eval_adjoint(-0.4*s, 0.4*s, derivative=0, tol=1e-12, maxiter=200, verbose=False)\n",
    "avg_scale, _ = geom_scale.precompute_line_avg(-0.4*s, 0.4*s, derivative=0, tol=1e-12, maxiter=200, verbose=False)\n",
    "\n",
    "plt.figure()\n",
    "plt.plot(t, avg.real)\n",
    "plt.plot(t, avg_scale.real, '--')\n",
    "\n",
    "plt.figure()\n",
    "plt.plot(t, avg_pre.real)\n",
    "plt.plot(t, avg_pre_scale.real, '--')\n",
    "\n",
    "plt.figure()\n",
    "geom.plot(plt.gca())\n",
    "geom_scale.plot(plt.gca())"
   ]
  },
  {
   "attachments": {},
   "cell_type": "markdown",
   "id": "e137e42d",
   "metadata": {},
   "source": [
    "Old Code"
   ]
  },
  {
   "cell_type": "code",
   "execution_count": null,
   "id": "823e419d",
   "metadata": {},
   "outputs": [],
   "source": [
    "from scipy.interpolate import interp1d\n",
    "def reparameterize_data(t, dt, data, k_max=None):\n",
    "    \"\"\"Reparameterize the data to be a function of t in [0,1].\n",
    "    Uses fouier series with 2*k_max+1 terms.\"\"\"    \n",
    "    dtype = torch.complex64\n",
    "    \n",
    "    if k_max is None:\n",
    "        k_max = data.shape[1]//2\n",
    "        \n",
    "    #ks = torch.arange(-k_max, k_max+1).to(dtype)\n",
    "    #basis = (torch.exp(-1j*ks[None, :]*t[:, None])*dt[:, None] / (2*np.pi)).to(dtype)\n",
    "    #coeffs = torch.tensordot(data.to(dtype), basis, dims=([1], [0]))\n",
    "    \n",
    "    #t = torch.linspace(0, 2*np.pi, data.shape[1]+1, dtype=dtype)[:-1]\n",
    "    #basis = (torch.exp(1j*ks[None, :]*t[:, None])).to(dtype)\n",
    "    #data = (torch.tensordot(coeffs, basis, dims=([1], [1]))).real\n",
    "    \n",
    "    data_np = data.numpy()\n",
    "    t_np = t\n",
    "    f = interp1d(t_np, data_np, axis=-1)\n",
    "    \n",
    "    t_np = np.linspace(0, 2*np.pi, data.shape[1]+1)[:-1]\n",
    "    data_np = f(t_np)\n",
    "    \n",
    "    return torch.from_numpy(data_np)\n",
    "    \n",
    "\n",
    "if reparameterize:\n",
    "            #dt = w\n",
    "            dt = np.zeros_like(t)\n",
    "            dt[:-1] = t[1:] - t[:-1]\n",
    "            dt[-1] = 2*np.pi - t[-1]\n",
    "            \n",
    "            l = np.cumsum(np.abs(dz) * dt)\n",
    "            L = l[-1]\n",
    "            l = np.roll(l, 1) / L *2*np.pi# normalize to [0, 1]\n",
    "            l[0] = 0.\n",
    "            \n",
    "            #dl = np.zeros_like(l)\n",
    "            #dl[:-1] = l[1:] - l[:-1]\n",
    "            #dl[-1] = 2*np.pi - l[-1]\n",
    "        \n",
    "            dl = np.abs(dz) * 2*np.pi / L * dt\n",
    "        \n",
    "            \n",
    "            #plt.plot(l, in_data[i, 1, :])     \n",
    "            #plt.plot(l, dl*100) \n",
    "            \n",
    "            out_data[i, :, :] = reparameterize_data(l, dl, out_data[i, :, :], k_max=41)\n",
    "            in_data[i, :, :] = reparameterize_data(l, dl, in_data[i, :, :], k_max=101)\n",
    "            in_data[i, -1, :] = torch.linspace(0, 2*np.pi, M+1)[:-1]"
   ]
  }
 ],
 "metadata": {
  "kernelspec": {
   "display_name": "pimlenv",
   "language": "python",
   "name": "python3"
  },
  "language_info": {
   "codemirror_mode": {
    "name": "ipython",
    "version": 3
   },
   "file_extension": ".py",
   "mimetype": "text/x-python",
   "name": "python",
   "nbconvert_exporter": "python",
   "pygments_lexer": "ipython3",
   "version": "3.8.12"
  }
 },
 "nbformat": 4,
 "nbformat_minor": 5
}
