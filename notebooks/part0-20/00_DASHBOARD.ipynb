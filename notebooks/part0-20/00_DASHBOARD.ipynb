{
 "cells": [
  {
   "cell_type": "markdown",
   "id": "16758dd1",
   "metadata": {},
   "source": [
    "## Dashboard\n",
    "\n",
    "Script for backing up to github"
   ]
  }
 ],
 "metadata": {
  "kernelspec": {
   "display_name": "Physics Informed Machine Learning Environment",
   "language": "python",
   "name": "pimlenv"
  },
  "language_info": {
   "codemirror_mode": {
    "name": "ipython",
    "version": 3
   },
   "file_extension": ".py",
   "mimetype": "text/x-python",
   "name": "python",
   "nbconvert_exporter": "python",
   "pygments_lexer": "ipython3",
   "version": "3.8.12"
  }
 },
 "nbformat": 4,
 "nbformat_minor": 5
}
