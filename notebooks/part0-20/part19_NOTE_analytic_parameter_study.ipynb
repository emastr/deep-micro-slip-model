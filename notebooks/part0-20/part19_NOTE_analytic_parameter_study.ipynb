{
 "cells": [
  {
   "attachments": {},
   "cell_type": "markdown",
   "metadata": {},
   "source": [
    "### Constants\n",
    "\n",
    "We want to describe the solution in terms of global variables:\n",
    "* `eps`, the characteristic length scale $\\epsilon$ at which the boundary can be resolved.\n",
    "\n",
    "### Parameters\n",
    "\n",
    "##### Included only\n",
    "* `tol: float`, Tolerance parameter. For all iterative algorithms. Dimension [m/s].\n",
    "* `xDim: int`, Resolution of Macro Problem\n",
    "* `n_refine: int`, Resolution of micro problems\n",
    "* `nMic: int`, Number of micro problems\n",
    "* `width: float,   height: float`, width and height of micro problems  \n",
    "\n",
    "Extracting length scales:\n",
    "\n",
    "* Let `H = 1/xDim` = length resolution of macro problems [m]\n",
    "* Let `h = eps * 2^(-n_refine)` = length resolution of micro problems [m]\n",
    "\n",
    "Idea:\n",
    "* Determine characteristic macro and micro length scales $L$ and $\\epsilon$.\n",
    "  * First, determine $\\epsilon$. \n",
    "  * Find a priori error estimate using $\\epsilon$. Gives `tol` \n",
    "  * Pick $L$ so truncated part is `tol`.\n",
    "* Take `nMic` $\\propto c(\\epsilon)/L$ (Nyquist-Shanno Sampling theorem).\n",
    "* Choose `width` to eliminate $\\epsilon$ up to `tol` \n",
    "* Choose `xDim` and `n_refine` to resolve the respective problems up to `tol`.\n",
    "\n",
    "Guess:\n",
    "* We will get `nMic`$=2/L$,  `width`=$5\\epsilon$,  `xDim` $= 20/L$, `n_refine` = $0$\n"
   ]
  },
  {
   "attachments": {},
   "cell_type": "markdown",
   "metadata": {},
   "source": [
    "\n",
    "##### Excluded and included\n",
    "We divide the parameters of HMM for stokes into categories based on the data type and application.  \n",
    "We make some simplifications to reduce degrees of freedom. The notable omissions are highlighted in ~~strikethrough~~.\n",
    "* HMM Iterations\n",
    "    * `tol: float`, <span style=\"color:red\">tolerance</span> for iterative solve.\n",
    "\n",
    "* Macro Problem  \n",
    "    * `xDim: int[odd]` , number of Fourier Basis functions. Odd integer.\n",
    "    * ~~`yDim: int`~~ , number of Chebyhshev Basis functions. Integer. Assume prop to `xDim`.\n",
    "    * `tol: float`, <span style=\"color:red\">tolerance</span> for iterative solve.\n",
    "    * ~~`eval_pos: float`~~, how close to put Macro floor to fluctuating boundary. Assume 10% away.\n",
    "\n",
    "\n",
    "* Macro <- Micro coupling\n",
    "    * ~~`interp`~~ , periodic interpolation of slip coefficient  $\\alpha$. Default:\n",
    "        * ~~`iDeg: int[odd]`~~ , number of Fourier Basis functions.\n",
    "        * Assume FFT with degree = `nMic`.\n",
    "\n",
    "\n",
    "* Micro Problem\n",
    "    > For fixed $\\epsilon$  \n",
    "    > Hmm \"eye-norm\" robust to micro problem parameters, as long as they are solved correctly.  \n",
    "    > Computational cost, optimisation is key. Micro resolution $h$ vs Macro resolution $H$.\n",
    "    > \n",
    "    * `nMic: int`, number of micro problems\n",
    "    * ~~`xPos: list[float]`~~, positions of micro domains. Assume uniform.\n",
    "    * `width: float` ~~`list[float]`~~, width of micro domain.\n",
    "    * `height: float`  ~~`list[float]`~~, height of micro domain.\n",
    "    * `n_refine: int` ~~`list[int]`~~, number of dyadic refinements of mesh.\n",
    "    * `tol: float`, <span style=\"color:red\">tolerance</span> of gmres in solve.\n",
    "    *  ~~`linePos`~~\n",
    "\n",
    "* Micro <- Macro coupling\n",
    "    * ~~`deg_project: int`~~ , degree of polynomial for extrapolation. Assume lowest possible.\n",
    "    * ~~`xDim_reduce`~~\n",
    "    * ~~`yDim_reduce`~~"
   ]
  }
 ],
 "metadata": {
  "kernelspec": {
   "display_name": "Physics Informed Machine Learning Environment",
   "language": "python",
   "name": "pimlenv"
  },
  "language_info": {
   "codemirror_mode": {
    "name": "ipython",
    "version": 3
   },
   "file_extension": ".py",
   "mimetype": "text/x-python",
   "name": "python",
   "nbconvert_exporter": "python",
   "pygments_lexer": "ipython3",
   "version": "3.8.12"
  },
  "orig_nbformat": 4
 },
 "nbformat": 4,
 "nbformat_minor": 2
}
