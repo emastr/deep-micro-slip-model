{
 "cells": [
  {
   "cell_type": "code",
   "execution_count": 35,
   "id": "ad4931b4",
   "metadata": {},
   "outputs": [
    {
     "name": "stdout",
     "output_type": "stream",
     "text": [
      "99589945 bytes\n"
     ]
    }
   ],
   "source": [
    "import psutil\n",
    "import os\n",
    "\n",
    "def get_size(start_path = '.'):\n",
    "    total_size = 0\n",
    "    for dirpath, dirnames, filenames in os.walk(start_path):\n",
    "        for f in filenames:\n",
    "            fp = os.path.join(dirpath, f)\n",
    "            # skip if it is symbolic link\n",
    "            if not os.path.islink(fp):\n",
    "                total_size += os.path.getsize(fp)\n",
    "\n",
    "    return total_size\n"
   ]
  },
  {
   "cell_type": "code",
   "execution_count": 40,
   "id": "e393feb1",
   "metadata": {},
   "outputs": [
    {
     "name": "stdout",
     "output_type": "stream",
     "text": [
      "99.9\n",
      "{'enp7s0': [shwtemp(label='PHY Temperature', current=57.859, high=None, critical=None)], 'k10temp': [shwtemp(label='Tdie', current=62.375, high=70.0, critical=70.0), shwtemp(label='Tctl', current=89.375, high=None, critical=None), shwtemp(label='Tdie', current=62.25, high=70.0, critical=70.0), shwtemp(label='Tctl', current=89.25, high=None, critical=None), shwtemp(label='Tdie', current=61.375, high=70.0, critical=70.0), shwtemp(label='Tctl', current=88.375, high=None, critical=None), shwtemp(label='Tdie', current=57.75, high=70.0, critical=70.0), shwtemp(label='Tctl', current=84.75, high=None, critical=None)], 'iwlwifi_1': [shwtemp(label='', current=41.0, high=None, critical=None)]}\n",
      "{}\n",
      "(64.53, 64.66, 62.81)\n",
      "sdiskusage(total=982900588544, used=778182270976, free=154718232576, percent=83.4)\n",
      "99504281 bytes\n",
      "15201986780 bytes\n"
     ]
    }
   ],
   "source": [
    "print(psutil.cpu_percent())\n",
    "print(psutil.sensors_temperatures())\n",
    "print(psutil.sensors_fans())\n",
    "print(psutil.getloadavg())\n",
    "print(psutil.disk_usage(\"/home/emastr/phd/notebooks\"))\n",
    "\n",
    "\n",
    "print(get_size(), 'bytes', end=\"\\n\")\n",
    "print(get_size(start_path=\"/home/emastr/phd/data\"), 'bytes', end=\"\\n\")"
   ]
  }
 ],
 "metadata": {
  "kernelspec": {
   "display_name": "Physics Informed Machine Learning Environment",
   "language": "python",
   "name": "pimlenv"
  },
  "language_info": {
   "codemirror_mode": {
    "name": "ipython",
    "version": 3
   },
   "file_extension": ".py",
   "mimetype": "text/x-python",
   "name": "python",
   "nbconvert_exporter": "python",
   "pygments_lexer": "ipython3",
   "version": "3.8.12"
  }
 },
 "nbformat": 4,
 "nbformat_minor": 5
}
