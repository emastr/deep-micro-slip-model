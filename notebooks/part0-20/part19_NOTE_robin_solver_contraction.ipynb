{
 "cells": [
  {
   "attachments": {},
   "cell_type": "markdown",
   "metadata": {},
   "source": [
    "## Contraction result for iterative Robin solver\n",
    "\n",
    "Our goal is to solve\n",
    "\n",
    "$$\n",
    "    Lu = f, \\qquad \\text{on}\\quad \\Omega,\\qquad u + \\tilde{\\alpha} \\partial_n u = 0,\\qquad \\text{on}\\quad \\partial \\Omega.\n",
    "$$\n",
    "\n",
    "Let $U\\colon \\Omega \\to \\mathbb{R}$ be the solution space and $\\partial U\\colon \\partial\\Omega \\to \\mathbb{R}$ the image of the trace $\\mathrm{Tr}$ on $U$. We define the solution operator $S_f\\colon \\partial U \\to U$ such that $S_{f}(g)$ is defined by the solution $u$ to\n",
    "\n",
    "$$\n",
    "    Lu = f, \\qquad \\text{on}\\quad \\Omega,\\qquad u + \\tilde{\\alpha} \\partial_n u = 0,\\qquad \\text{on}\\quad \\partial \\Omega.\n",
    "$$\n",
    "\n",
    "Our goal is to iterate using the following approach:\n",
    "\n",
    "$$\n",
    "    u_{k+1} = S_{f}((\\tilde{\\alpha}-\\alpha)\\partial_n u_k)\n",
    "$$\n",
    "\n",
    "We note that by linearity, it holds that $S_f(u) - S_f(v) = S_0(u-v)$. Hence, if $T(u) = S_f((\\tilde\\alpha -\\alpha)\\partial_n u)$ is our contraction operator, we also have\n",
    "\n",
    "$$\n",
    "    ||T(u)-T(v)||=||S_f((\\tilde\\alpha - \\alpha)\\partial_n u) - S_f((\\tilde\\alpha - \\alpha)\\partial_n v)|| = ||S_0((\\tilde\\alpha - \\alpha)\\partial_n (u-v))||\n",
    "$$\n",
    "\n",
    "Where the latter can be bounded as before:\n",
    "\n",
    "$$\n",
    "    ||T(u)-T(v)||_{H_1(\\Omega)}\\leq C||(\\tilde \\alpha - \\alpha)\\partial_n (u-v)||_{\\partial\\Omega}\\leq C_{\\tilde\\alpha}\\sup_{\\partial\\Omega}|\\tilde\\alpha - \\alpha| \\cdot ||u-v||_{H_1}\n",
    "$$\n",
    "\n",
    "Hence, if $|\\tilde\\alpha - \\alpha|$ is sufficiently small we have $C_{\\tilde\\alpha} \\sup |\\tilde\\alpha - \\alpha| < 1$, and hence a contraction.  \n",
    "Note here that convergence scales linearly with the difference. Suppose now that $\\alpha = \\tilde\\alpha + \\epsilon v$, where $|v|<1$ and $\\epsilon>0$.  \n",
    "Then, as $\\epsilon \\to 0$, we obtain for some sufficiently small $\\epsilon$, a method that converges to a desired tolerance $\\tau$ within $\\frac{\\log(\\tau)}{\\log(\\epsilon)}$ iterations. "
   ]
  }
 ],
 "metadata": {
  "language_info": {
   "name": "python"
  },
  "orig_nbformat": 4
 },
 "nbformat": 4,
 "nbformat_minor": 2
}
