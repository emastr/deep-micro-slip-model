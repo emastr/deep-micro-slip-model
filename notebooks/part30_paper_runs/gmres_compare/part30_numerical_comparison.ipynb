{
 "cells": [
  {
   "cell_type": "markdown",
   "id": "43d0d487",
   "metadata": {},
   "source": [
    "## Micro Domain\n",
    "\n",
    "The micro domain is defined by a bounding box and a smooth function parameterising the floor of the micro domain. "
   ]
  },
  {
   "cell_type": "code",
   "execution_count": 16,
   "id": "ce68e6b1",
   "metadata": {},
   "outputs": [],
   "source": [
    "import numpy as np\n",
    "import torch as pt\n",
    "import torch.autograd as agrad\n",
    "import matplotlib.pyplot as plt\n",
    "from util.plot_tools import *\n",
    "from architecture.fno_cnn_1d import *\n",
    "from boundary_solvers.blobs import *\n",
    "from boundary_solvers.geometry import *\n",
    "from scipy.sparse.linalg import LinearOperator #, gmres\n",
    "from operators.stokes_operator import StokesAdjointBoundaryOp\n",
    "import torch.nn as nn\n",
    "import time\n",
    "from boundary_solvers.geometry_torch import *\n",
    "from architecture.session import egeofno_ver2, svdfno_ver2, svdfno_ver1, svdfno_ver3\n",
    "\n",
    "\n",
    "net_dir = \"/mnt/data0/emastr/article_training_nodecay/\"\n",
    "MESH_PATH = \"/home/emastr/deep-micro-slip-model/data/mesh/\"\n",
    "figures_dir = \"/home/emastr/deep-micro-slip-model/data/figures/\"\n",
    "simulation_dir = \"/home/emastr/deep-micro-slip-model/data/stokes_fenics/\"\n",
    "data_dir = \"/home/emastr/deep-micro-slip-model/data/micro_geometries_boundcurv_repar_256_torch/data_big_clean.torch\""
   ]
  },
  {
   "cell_type": "markdown",
   "id": "cb3c562a",
   "metadata": {},
   "source": [
    "## Create data loader\n",
    "\n",
    "Load and transform the data. "
   ]
  },
  {
   "cell_type": "code",
   "execution_count": 17,
   "id": "1600c6c7",
   "metadata": {},
   "outputs": [
    {
     "name": "stdout",
     "output_type": "stream",
     "text": [
      "torch.Size([200, 2, 256])\n",
      "['zr', 'zi', 'dzr', 'dzi', 'ddzr', 'ddzi', 'inter_precomp_r', 'inter_precomp_i', 'inter_precomp_der_r', 'inter_precomp_der_i', 'w', 't']\n",
      "['precomp_r', 'precomp_i', 'precomp_der_r', 'precomp_der_i']\n"
     ]
    }
   ],
   "source": [
    "device = \"cpu\" # \"cuda:0\"\n",
    "# Standard features (coordinates, derivatives of parameterisation)\n",
    "\n",
    "num_pts = 256\n",
    "full_data = torch.load(data_dir)\n",
    "M = 200\n",
    "\n",
    "data_in_dict = {full_data['info']['in_ch'][i]: full_data['X'][:M, i] for i in range(len(full_data['info']['in_ch']))}\n",
    "data_out_dict = {full_data['info']['out_ch'][i]: full_data['Y'][:M, i] for i in range(len(full_data['info']['out_ch']))}\n",
    "\n",
    "X_gmres = torch.concatenate((data_in_dict['inter_precomp_r'][:M, None], data_in_dict['inter_precomp_i'][:M, None]), dim=1)\n",
    "Y_gmres = torch.concatenate((data_out_dict['precomp_r'][:M, None], data_out_dict['precomp_i'][:M, None]), dim=1)\n",
    "# Reduced features (trust fourier transform to handle the rest)\n",
    "#features = {'x', 'y', 'vx', 'vy'}\n",
    "\n",
    "\n",
    "#Y_gmres = Y_gmres[:, :, ::s]\n",
    "#X_gmres = X_gmres[:, :, ::s]\n",
    "print(X_gmres.shape)\n",
    "print(list(data_in_dict.keys()))\n",
    "print(list(data_out_dict.keys()))\n"
   ]
  },
  {
   "cell_type": "markdown",
   "id": "88975206",
   "metadata": {},
   "source": [
    "Create network"
   ]
  },
  {
   "cell_type": "code",
   "execution_count": 18,
   "id": "ece85a05",
   "metadata": {},
   "outputs": [
    {
     "name": "stdout",
     "output_type": "stream",
     "text": [
      "Warning: old skipnet had no scale parameter\n",
      "Warning: old skipnet had no scale parameter\n",
      "['rt', 'rn', 'drt_norm', 'drn_norm']\n"
     ]
    }
   ],
   "source": [
    "net2 = svdfno_ver3(device=device)\n",
    "net2_data = torch.load(f\"{net_dir}svdfno_ver3_seed0_40000.Torch\", map_location=torch.device(device))\n",
    "net2.load_state_dict(net2_data[\"state dict\"])\n",
    "net_settings =  {\"num_pts\": num_pts, \"input_features\": net2_data[\"settings\"][\"input_features\"], \"device\": device, \"dtype\": torch.float}\n",
    "net_data_set = GeomData(data_dir, net2_data[\"settings\"][\"input_features\"], net2_data[\"settings\"][\"output_features\"], random_roll=False, device=device, dtype=torch.float32)\n",
    "X_net2 = net_data_set.X[:M].to(torch.float32)\n",
    "Y_net2 = net_data_set.Y[:M].to(torch.float32)\n",
    "\n",
    "\n",
    "net = egeofno_ver2(device=device)\n",
    "net_data = torch.load(f\"{net_dir}fno_ver2_seed0_40000.Torch\", map_location=torch.device(device))\n",
    "net.load_state_dict(net_data[\"state dict\"])\n",
    "\n",
    "net_settings =  {\"num_pts\": num_pts, \"input_features\": net_data[\"settings\"][\"input_features\"], \"device\": device, \"dtype\": torch.float}\n",
    "net_data_set = GeomData(data_dir, net_data[\"settings\"][\"input_features\"], net_data[\"settings\"][\"output_features\"], random_roll=False, device=device, dtype=torch.float32)\n",
    "X_net = net_data_set.X[:M].to(torch.float32)\n",
    "Y_net = net_data_set.Y[:M].to(torch.float32)\n",
    "\n",
    "print(net_data[\"settings\"][\"output_features\"])"
   ]
  },
  {
   "cell_type": "markdown",
   "id": "46c30a9f",
   "metadata": {},
   "source": [
    "Do training"
   ]
  },
  {
   "cell_type": "markdown",
   "id": "14fee59a",
   "metadata": {},
   "source": [
    "Compare to GMRES"
   ]
  },
  {
   "cell_type": "code",
   "execution_count": 19,
   "id": "324013d4",
   "metadata": {},
   "outputs": [],
   "source": [
    "from util import gmres\n",
    "\n",
    "# Create a forward operator\n",
    "def op_factory(inp):\n",
    "    Z   = inp['zr']   + 1j * inp['zi']\n",
    "    dZ  = inp['dzr']  + 1j * inp['dzi']\n",
    "    ddZ = inp['ddzr'] + 1j * inp['ddzi']\n",
    "    W = inp['w']\n",
    "    a = torch.ones(Z.shape[0],) * 0.5 * 1j\n",
    "    return StokesAdjointBoundaryOp(Z, dZ, ddZ, W, a)\n",
    "\n",
    "op_test = op_factory(data_in_dict)"
   ]
  },
  {
   "cell_type": "code",
   "execution_count": 20,
   "id": "a1ff76d8",
   "metadata": {},
   "outputs": [],
   "source": [
    "from util.gmres import gmres\n",
    "from torch import tensordot as dot\n",
    "from torch.linalg import vector_norm as norm\n",
    "\n",
    "class gmresNet(nn.Module):\n",
    "    def __init__(self, steps, callback=None, verbose=False):\n",
    "        super().__init__()\n",
    "        self.steps = steps\n",
    "        self.callback = callback\n",
    "        self.verbose = verbose\n",
    "        \n",
    "        \n",
    "    def forward(self, x, ops):\n",
    "        y = torch.zeros_like(x)\n",
    "        for n in range(x.shape[0]):\n",
    "            y[n, :] = gmres(lambda x: ops(x, n), x[None, n, :], \n",
    "                            steps=self.steps, \n",
    "                            callback=self.callback, \n",
    "                            verbose=self.verbose)\n",
    "        return y\n"
   ]
  },
  {
   "cell_type": "code",
   "execution_count": 21,
   "id": "8c5fdea0",
   "metadata": {
    "scrolled": true
   },
   "outputs": [],
   "source": [
    "# print(V_test.shape)\n",
    "#ops = [lambda x: torch.cat([op_test(x[r].view(1, C, M), idx=[n]).view(1, C*M) \n",
    "                            #for r in range(x.shape[0])], dim=0) for n in range(N)]\n",
    "# x is shape (C, M) -> \n",
    "ops =[]\n",
    "K = op_test.K\n",
    "(N, C, M) = X_gmres.shape\n",
    "op = lambda x, n, s: x + dot(x.view(x.shape[0], C, M//s), K[n, :, :, ::s, ::s]*s, [[1,2],[1,3]]).view(x.shape[0], C*(M//s))\n",
    "\n",
    "X_gmres_view = X_gmres.view(N, C*M)\n",
    "X_gmres_view = X_gmres_view.to(torch.float64)\n",
    "\n",
    "            \n",
    "#n2 = 10\n",
    "#print(f\"{norm(ops[n](Y_test[None, 11].view(1, C*M)).view(1, C, M) - V_test[None, 11])},{n}\")\n",
    "#callback = lambda *args: print(f\"{norm(opnx(Y_test[None, n2].view(1, C*M),n2).view(1, C, M) - V_test[None, n2]):.2e}\")\n",
    "resnet = gmresNet(steps=20)\n",
    "op_sample = lambda X, s: resnet(X[:,:,::s].view(N, C*(M//s)).to(torch.float64), \\\n",
    "                                lambda x, n: op(x, n, s)).view(N, C, M//s)\n",
    "\n",
    "Y_gmres = op_sample(X_gmres, 1)"
   ]
  },
  {
   "cell_type": "code",
   "execution_count": 22,
   "id": "cf626ce2",
   "metadata": {},
   "outputs": [],
   "source": [
    "#n = 20\n",
    "t_net2 = time.time()\n",
    "Y_net2_apx = net2(X_net2).detach()\n",
    "t_net2 = time.time() - t_net2\n",
    "\n",
    "t_net = time.time()\n",
    "Y_net_apx = net(X_net).detach()\n",
    "t_net = time.time() - t_net\n",
    "\n"
   ]
  },
  {
   "cell_type": "markdown",
   "id": "d0d994bd",
   "metadata": {},
   "source": [
    "We find corrupt data points by checking for outliers in the training error."
   ]
  },
  {
   "cell_type": "code",
   "execution_count": 29,
   "id": "3c3d45aa",
   "metadata": {},
   "outputs": [
    {
     "name": "stdout",
     "output_type": "stream",
     "text": [
      "2\n",
      "4\n",
      "8\n"
     ]
    }
   ],
   "source": [
    "iters = list(range(2, 43, 3))\n",
    "times = []\n",
    "error = []\n",
    "stride = [2, 4, 8]\n",
    "for s in stride:\n",
    "    print(s)\n",
    "    t = time.time()\n",
    "    Y_gmres_apx = op_sample(X_gmres, s)\n",
    "    times.append(time.time() - t)\n",
    "    error.append(np.array([norm(Y_gmres[n,:,::s] - Y_gmres_apx[n])/norm(Y_gmres[n,:,::s]) for n in range(N)]))\n",
    "    \n",
    "    \n",
    "error3 = np.array([(norm(Y_net[n] - Y_net_apx[n])/norm(Y_net[n])).cpu() for n in range(N)])\n",
    "error32 = np.array([(norm(Y_net2[n] - Y_net2_apx[n])/norm(Y_net2[n])).cpu() for n in range(N)])\n",
    "\n",
    "error_mean = [np.mean(e) for e in error]\n",
    "error3_mean = np.mean(error3)\n",
    "error32_mean = np.mean(error32)"
   ]
  },
  {
   "cell_type": "code",
   "execution_count": 25,
   "id": "165290be",
   "metadata": {},
   "outputs": [
    {
     "ename": "IndexError",
     "evalue": "list index out of range",
     "output_type": "error",
     "traceback": [
      "\u001b[0;31m---------------------------------------------------------------------------\u001b[0m",
      "\u001b[0;31mIndexError\u001b[0m                                Traceback (most recent call last)",
      "Cell \u001b[0;32mIn[25], line 4\u001b[0m\n\u001b[1;32m      2\u001b[0m \u001b[38;5;28;01mfor\u001b[39;00m i \u001b[38;5;129;01min\u001b[39;00m \u001b[38;5;28mrange\u001b[39m(\u001b[38;5;241m0\u001b[39m, \u001b[38;5;28mlen\u001b[39m(iters), \u001b[38;5;241m2\u001b[39m):\n\u001b[1;32m      3\u001b[0m     plt\u001b[38;5;241m.\u001b[39msubplot(\u001b[38;5;241m121\u001b[39m)\n\u001b[0;32m----> 4\u001b[0m     plt\u001b[38;5;241m.\u001b[39mhist(np\u001b[38;5;241m.\u001b[39mlog10(\u001b[38;5;241m1e-10\u001b[39m \u001b[38;5;241m+\u001b[39m \u001b[43merror\u001b[49m\u001b[43m[\u001b[49m\u001b[43mi\u001b[49m\u001b[43m]\u001b[49m), label\u001b[38;5;241m=\u001b[39m\u001b[38;5;124mf\u001b[39m\u001b[38;5;124m'\u001b[39m\u001b[38;5;124mGMRES \u001b[39m\u001b[38;5;132;01m{\u001b[39;00miters[i]\u001b[38;5;132;01m}\u001b[39;00m\u001b[38;5;124m iter\u001b[39m\u001b[38;5;124m'\u001b[39m, alpha\u001b[38;5;241m=\u001b[39m\u001b[38;5;241m0.3\u001b[39m)\n\u001b[1;32m      6\u001b[0m plt\u001b[38;5;241m.\u001b[39msubplot(\u001b[38;5;241m121\u001b[39m)\n\u001b[1;32m      7\u001b[0m plt\u001b[38;5;241m.\u001b[39mxlim([\u001b[38;5;241m-\u001b[39m\u001b[38;5;241m9\u001b[39m, \u001b[38;5;241m0\u001b[39m])\n",
      "\u001b[0;31mIndexError\u001b[0m: list index out of range"
     ]
    },
    {
     "data": {
      "image/png": "[encoded data removed]",
      "text/plain": [
       "<Figure size 1500x600 with 1 Axes>"
      ]
     },
     "metadata": {},
     "output_type": "display_data"
    }
   ],
   "source": [
    "plt.figure(figsize=(15,6))\n",
    "for i in range(0, len(iters), 2):\n",
    "    plt.subplot(121)\n",
    "    plt.hist(np.log10(1e-10 + error[i]), label=f'GMRES {iters[i]} iter', alpha=0.3)\n",
    "    \n",
    "plt.subplot(121)\n",
    "plt.xlim([-9, 0])\n",
    "plt.xlabel(\"log(norm(error))\")\n",
    "plt.ylabel(\"Probability\")\n",
    "plt.title(\"GMRES\")\n",
    "plt.legend()\n",
    "    \n"
   ]
  },
  {
   "cell_type": "markdown",
   "id": "9c8bf637",
   "metadata": {},
   "source": [
    "Below, we compare a naive implementation of GMRES (no FMM involved), to FNO."
   ]
  },
  {
   "cell_type": "code",
   "execution_count": 52,
   "id": "3a09d87a",
   "metadata": {},
   "outputs": [
    {
     "name": "stdout",
     "output_type": "stream",
     "text": [
      "0.03342437744140625 0.06754279136657715\n"
     ]
    },
    {
     "data": {
      "image/png": "[encoded data removed]",
      "text/plain": [
       "<Figure size 1000x400 with 1 Axes>"
      ]
     },
     "metadata": {},
     "output_type": "display_data"
    }
   ],
   "source": [
    "plt.figure(figsize=(10,4))\n",
    "plt.plot(times, error_mean, 'ro--', label=\"GMRES\", linewidth=1)\n",
    "for i in range(len(times)):\n",
    "    txt = f\"{256//stride[i]}\"\n",
    "    if i == 2:\n",
    "        txt = \"N=\" + txt\n",
    "    if iters[i] != 20:\n",
    "        plt.text(times[i]*0.95, (error_mean[i]+1e-10)*0.8, txt, horizontalalignment='right')\n",
    "\n",
    "print(t_net, t_net2)\n",
    "plt.scatter([t_net], [error3_mean], marker='^', label=\"geo-FNO\")\n",
    "plt.scatter([t_net2], [error32_mean], marker='v', label=\"Low Rank geo-FNO\")\n",
    "plt.yscale(\"log\")\n",
    "plt.xscale(\"log\")\n",
    "xlim = plt.gca().get_xlim()\n",
    "plt.plot(xlim, [error3_mean+1e-10 for _ in range(2)], '--', color='black', linewidth=1, zorder=-2)\n",
    "plt.plot(xlim, [error32_mean+1e-10 for _ in range(2)], '--', color='black', linewidth=1, zorder=-2)\n",
    "plt.ylim([1e-2, 2])\n",
    "#plt.gca().spines[\"right\"].set_visible(False)\n",
    "#plt.gca().spines[\"top\"].set_visible(False)\n",
    "\n",
    "plt.xlabel(f\"Computation time\")\n",
    "plt.ylabel(\"Error\")\n",
    "plt.title(\"Cost Benefit of BIM vs Learned Operators\")\n",
    "plt.legend()#loc=\"lower left\")\n",
    "plt.gcf().savefig(f\"{figures_dir}gmres_vs_fno.pdf\")"
   ]
  },
  {
   "cell_type": "code",
   "execution_count": null,
   "id": "24649ce6",
   "metadata": {},
   "outputs": [],
   "source": []
  }
 ],
 "metadata": {
  "kernelspec": {
   "display_name": "fenics_legacy",
   "language": "python",
   "name": "python3"
  },
  "language_info": {
   "codemirror_mode": {
    "name": "ipython",
    "version": 3
   },
   "file_extension": ".py",
   "mimetype": "text/x-python",
   "name": "python",
   "nbconvert_exporter": "python",
   "pygments_lexer": "ipython3",
   "version": "3.12.2"
  }
 },
 "nbformat": 4,
 "nbformat_minor": 5
}
