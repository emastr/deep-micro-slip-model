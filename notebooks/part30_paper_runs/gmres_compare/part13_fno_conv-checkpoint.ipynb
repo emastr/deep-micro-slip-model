{
 "cells": [
  {
   "cell_type": "markdown",
   "id": "43d0d487",
   "metadata": {},
   "source": [
    "## Micro Domain\n",
    "\n",
    "The micro domain is defined by a bounding box and a smooth function parameterising the floor of the micro domain. "
   ]
  },
  {
   "cell_type": "code",
   "execution_count": 40,
   "id": "ce68e6b1",
   "metadata": {},
   "outputs": [],
   "source": [
    "import numpy as np\n",
    "import torch as pt\n",
    "import torch.autograd as agrad\n",
    "import matplotlib.pyplot as plt\n",
    "from util.plot_tools import *\n",
    "from architecture.fno_cnn_1d import *\n",
    "from boundary_solvers.blobs import *\n",
    "from boundary_solvers.geometry import *\n",
    "from scipy.sparse.linalg import LinearOperator #, gmres\n",
    "from operators.stokes_operator import StokesAdjointBoundaryOp\n",
    "import torch.nn as nn\n",
    "import time\n",
    "from boundary_solvers.geometry_torch import *\n",
    "from architecture.session import egeofno_ver2, svdfno_ver2, svdfno_ver1, svdfno_ver3\n",
    "\n",
    "\n",
    "net_dir = \"/mnt/data0/emastr/article_training_nodecay/\"\n",
    "MESH_PATH = \"/home/emastr/deep-micro-slip-model/data/mesh/\"\n",
    "figures_dir = \"/home/emastr/deep-micro-slip-model/data/figures/\"\n",
    "simulation_dir = \"/home/emastr/deep-micro-slip-model/data/stokes_fenics/\"\n",
    "data_dir = \"/home/emastr/deep-micro-slip-model/data/micro_geometries_boundcurv_repar_256_torch/data_big_clean.torch\""
   ]
  },
  {
   "cell_type": "markdown",
   "id": "cb3c562a",
   "metadata": {},
   "source": [
    "## Create data loader\n",
    "\n",
    "Load and transform the data. "
   ]
  },
  {
   "cell_type": "code",
   "execution_count": 41,
   "id": "1600c6c7",
   "metadata": {},
   "outputs": [
    {
     "name": "stdout",
     "output_type": "stream",
     "text": [
      "['zr', 'zi', 'dzr', 'dzi', 'ddzr', 'ddzi', 'inter_precomp_r', 'inter_precomp_i', 'inter_precomp_der_r', 'inter_precomp_der_i', 'w', 't']\n",
      "['precomp_r', 'precomp_i', 'precomp_der_r', 'precomp_der_i']\n"
     ]
    }
   ],
   "source": [
    "device = \"cuda:1\" #\"cpu\" # \"cuda:0\"\n",
    "# Standard features (coordinates, derivatives of parameterisation)\n",
    "\n",
    "full_data = torch.load(data_dir)\n",
    "M = 200\n",
    "data_in_dict = {full_data['info']['in_ch'][i]: full_data['X'][:M, i, :] for i in range(len(full_data['info']['in_ch']))}\n",
    "data_out_dict = {full_data['info']['out_ch'][i]: full_data['Y'][:M, i, :] for i in range(len(full_data['info']['out_ch']))}\n",
    "\n",
    "\n",
    "\n",
    "X_gmres = torch.concatenate((data_in_dict['inter_precomp_r'][:M, None], data_in_dict['inter_precomp_i'][:M, None]), dim=1)\n",
    "Y_gmres = torch.concatenate((data_out_dict['precomp_r'][:M, None], data_out_dict['precomp_i'][:M, None]), dim=1)\n",
    "# Reduced features (trust fourier transform to handle the rest)\n",
    "#features = {'x', 'y', 'vx', 'vy'}\n",
    "\n",
    "\n",
    "print(list(data_in_dict.keys()))\n",
    "print(list(data_out_dict.keys()))\n"
   ]
  },
  {
   "cell_type": "markdown",
   "id": "88975206",
   "metadata": {},
   "source": [
    "Create network"
   ]
  },
  {
   "cell_type": "code",
   "execution_count": 42,
   "id": "ece85a05",
   "metadata": {},
   "outputs": [
    {
     "name": "stdout",
     "output_type": "stream",
     "text": [
      "Warning: old skipnet had no scale parameter\n",
      "Warning: old skipnet had no scale parameter\n",
      "['rt', 'rn', 'drt_norm', 'drn_norm']\n"
     ]
    }
   ],
   "source": [
    "\n",
    "num_pts = 256\n",
    "\n",
    "net2 = svdfno_ver3(device=device)\n",
    "net2_data = torch.load(f\"{net_dir}svdfno_ver3_seed0_40000.Torch\", map_location=torch.device(device))\n",
    "net2.load_state_dict(net2_data[\"state dict\"])\n",
    "net_settings =  {\"num_pts\": num_pts, \"input_features\": net2_data[\"settings\"][\"input_features\"], \"device\": device, \"dtype\": torch.float}\n",
    "net_data_set = GeomData(data_dir, net2_data[\"settings\"][\"input_features\"], net2_data[\"settings\"][\"output_features\"], random_roll=False, device=device, dtype=torch.float32)\n",
    "X_net2 = net_data_set.X[:M].to(torch.float32)\n",
    "Y_net2 = net_data_set.Y[:M].to(torch.float32)\n",
    "\n",
    "\n",
    "net = egeofno_ver2(device=device)\n",
    "net_data = torch.load(f\"{net_dir}fno_ver2_seed0_40000.Torch\", map_location=torch.device(device))\n",
    "net.load_state_dict(net_data[\"state dict\"])\n",
    "\n",
    "net_settings =  {\"num_pts\": num_pts, \"input_features\": net_data[\"settings\"][\"input_features\"], \"device\": device, \"dtype\": torch.float}\n",
    "net_data_set = GeomData(data_dir, net_data[\"settings\"][\"input_features\"], net_data[\"settings\"][\"output_features\"], random_roll=False, device=device, dtype=torch.float32)\n",
    "X_net = net_data_set.X[:M].to(torch.float32)\n",
    "Y_net = net_data_set.Y[:M].to(torch.float32)\n",
    "\n",
    "print(net_data[\"settings\"][\"output_features\"])"
   ]
  },
  {
   "cell_type": "markdown",
   "id": "46c30a9f",
   "metadata": {},
   "source": [
    "Do training"
   ]
  },
  {
   "cell_type": "markdown",
   "id": "14fee59a",
   "metadata": {},
   "source": [
    "Compare to GMRES"
   ]
  },
  {
   "cell_type": "code",
   "execution_count": 43,
   "id": "324013d4",
   "metadata": {},
   "outputs": [],
   "source": [
    "from util import gmres\n",
    "\n",
    "# Create a forward operator\n",
    "def op_factory(inp):\n",
    "    Z   = inp['zr']   + 1j * inp['zi']\n",
    "    dZ  = inp['dzr']  + 1j * inp['dzi']\n",
    "    ddZ = inp['ddzr'] + 1j * inp['ddzi']\n",
    "    W = inp['w']\n",
    "    a = torch.ones(Z.shape[0],) * 0.5 * 1j\n",
    "    return StokesAdjointBoundaryOp(Z, dZ, ddZ, W, a)\n",
    "\n",
    "op_test = op_factory(data_in_dict)"
   ]
  },
  {
   "cell_type": "code",
   "execution_count": 44,
   "id": "a1ff76d8",
   "metadata": {},
   "outputs": [],
   "source": [
    "from util.gmres import gmres\n",
    "from torch import tensordot as dot\n",
    "from torch.linalg import vector_norm as norm\n",
    "\n",
    "class gmresNet(nn.Module):\n",
    "    def __init__(self, steps, callback=None, verbose=False):\n",
    "        super().__init__()\n",
    "        self.steps = steps\n",
    "        self.callback = callback\n",
    "        self.verbose = verbose\n",
    "        \n",
    "        \n",
    "    def forward(self, x, ops):\n",
    "        y = torch.zeros_like(x)\n",
    "        for n in range(x.shape[0]):\n",
    "            y[n, :] = gmres(lambda x: ops(x, n), x[None, n, :], \n",
    "                            steps=self.steps, \n",
    "                            callback=self.callback, \n",
    "                            verbose=self.verbose)\n",
    "        return y\n"
   ]
  },
  {
   "cell_type": "code",
   "execution_count": 45,
   "id": "8c5fdea0",
   "metadata": {
    "scrolled": true
   },
   "outputs": [],
   "source": [
    "# print(V_test.shape)\n",
    "#ops = [lambda x: torch.cat([op_test(x[r].view(1, C, M), idx=[n]).view(1, C*M) \n",
    "                            #for r in range(x.shape[0])], dim=0) for n in range(N)]\n",
    "# x is shape (C, M) -> \n",
    "ops =[]\n",
    "K = op_test.K\n",
    "(N, C, M) = X_gmres.shape\n",
    "\n",
    "\n",
    "op = lambda x, n: x + dot(x.view(x.shape[0], C, M), K[n, :, :, :, :], [[1,2],[1,3]]).view(x.shape[0], C*M)\n",
    "X_gmres_view = X_gmres.view(N, C*M)\n",
    "X_gmres_view = X_gmres_view.to(torch.float64)\n",
    "\n",
    "            \n",
    "#n2 = 10\n",
    "#print(f\"{norm(ops[n](Y_test[None, 11].view(1, C*M)).view(1, C, M) - V_test[None, 11])},{n}\")\n",
    "#callback = lambda *args: print(f\"{norm(opnx(Y_test[None, n2].view(1, C*M),n2).view(1, C, M) - V_test[None, n2]):.2e}\")\n",
    "resnet = gmresNet(steps=20)\n",
    "Y_gmres = resnet(X_gmres_view, op).view(N,C,M)"
   ]
  },
  {
   "cell_type": "code",
   "execution_count": 46,
   "id": "cf626ce2",
   "metadata": {},
   "outputs": [],
   "source": [
    "#n = 20\n",
    "t_net2 = time.time()\n",
    "Y_net2_apx = net2(X_net2).detach()\n",
    "t_net2 = time.time() - t_net2\n",
    "\n",
    "t_net = time.time()\n",
    "Y_net_apx = net(X_net).detach()\n",
    "t_net = time.time() - t_net\n",
    "\n"
   ]
  },
  {
   "cell_type": "markdown",
   "id": "d0d994bd",
   "metadata": {},
   "source": [
    "We find corrupt data points by checking for outliers in the training error."
   ]
  },
  {
   "cell_type": "code",
   "execution_count": 47,
   "id": "3c3d45aa",
   "metadata": {},
   "outputs": [],
   "source": [
    "iters = list(range(2, 23, 3))\n",
    "times = []\n",
    "error = []\n",
    "\n",
    "for i in iters:\n",
    "    resnet = gmresNet(steps=i)\n",
    "    \n",
    "    t = time.time()\n",
    "    Y_gmres_apx = resnet(X_gmres_view, op).view(N,C,M)\n",
    "    times.append(time.time() - t)\n",
    "    error.append(np.array([norm(Y_gmres[n] - Y_gmres_apx[n])/torch.numel(Y_gmres[n])**0.5 for n in range(N)]))\n",
    "    \n",
    "    \n",
    "error3 = np.array([(norm(Y_net[n] - Y_net_apx[n])/torch.numel(Y_net[n])**0.5).cpu() for n in range(N)])\n",
    "error32 = np.array([(norm(Y_net2[n] - Y_net2_apx[n])/torch.numel(Y_net2[n])**0.5).cpu() for n in range(N)])\n",
    "\n",
    "error_mean = [np.mean(e) for e in error]\n",
    "error3_mean = np.mean(error3)\n",
    "error32_mean = np.mean(error32)"
   ]
  },
  {
   "cell_type": "code",
   "execution_count": 48,
   "id": "165290be",
   "metadata": {},
   "outputs": [
    {
     "data": {
      "text/plain": [
       "<matplotlib.legend.Legend at 0x7fed83f92510>"
      ]
     },
     "execution_count": 48,
     "metadata": {},
     "output_type": "execute_result"
    },
    {
     "data": {
      "image/png": "[encoded data removed]",
      "text/plain": [
       "<Figure size 1500x600 with 1 Axes>"
      ]
     },
     "metadata": {},
     "output_type": "display_data"
    }
   ],
   "source": [
    "plt.figure(figsize=(15,6))\n",
    "for i in range(0, len(iters), 2):\n",
    "    plt.subplot(121)\n",
    "    plt.hist(np.log10(1e-10 + error[i]), label=f'GMRES {iters[i]} iter', alpha=0.3)\n",
    "    \n",
    "plt.subplot(121)\n",
    "plt.xlim([-9, 0])\n",
    "plt.xlabel(\"log(norm(error))\")\n",
    "plt.ylabel(\"Probability\")\n",
    "plt.title(\"GMRES\")\n",
    "plt.legend()\n",
    "    \n"
   ]
  },
  {
   "cell_type": "markdown",
   "id": "9c8bf637",
   "metadata": {},
   "source": [
    "Below, we compare a naive implementation of GMRES (no FMM involved), to FNO."
   ]
  },
  {
   "cell_type": "code",
   "execution_count": 52,
   "id": "3a09d87a",
   "metadata": {},
   "outputs": [
    {
     "name": "stdout",
     "output_type": "stream",
     "text": [
      "0.003793954849243164 0.030962705612182617\n"
     ]
    },
    {
     "data": {
      "image/png": "[encoded data removed]",
      "text/plain": [
       "<Figure size 1000x400 with 1 Axes>"
      ]
     },
     "metadata": {},
     "output_type": "display_data"
    }
   ],
   "source": [
    "plt.figure(figsize=(10,4))\n",
    "plt.plot(times, error_mean, 'ro--', label=\"GMRES\", linewidth=1)\n",
    "for i in range(len(times)):\n",
    "    txt = f\"{iters[i]}\"\n",
    "    if i == 0:\n",
    "        txt = \"GMRES iter \" + txt\n",
    "    if iters[i] != 20:\n",
    "        plt.text(times[i]*1.0, (error_mean[i]+1e-10)*0.7, txt, horizontalalignment='center')\n",
    "\n",
    "print(t_net, t_net2)\n",
    "plt.scatter([t_net], [error3_mean], marker='^', label=\"geo-FNO\")\n",
    "plt.scatter([t_net2], [error32_mean], marker='v', label=\"Low Rank geo-FNO\")\n",
    "plt.yscale(\"log\")\n",
    "plt.xscale(\"log\")\n",
    "xlim = plt.gca().get_xlim()\n",
    "plt.plot(xlim, [error3_mean+1e-10 for _ in range(2)], '--', color='black', linewidth=1, zorder=-2)\n",
    "plt.plot(xlim, [error32_mean+1e-10 for _ in range(2)], '--', color='black', linewidth=1, zorder=-2)\n",
    "#plt.gca().spines[\"right\"].set_visible(False)\n",
    "#plt.gca().spines[\"top\"].set_visible(False)\n",
    "\n",
    "plt.xlabel(f\"Computation time\")\n",
    "plt.ylabel(\"Error\")\n",
    "plt.title(\"Cost Benefit of GMRES vs FNO\")\n",
    "plt.legend()#loc=\"lower left\")\n",
    "plt.gcf().savefig(f\"{figures_dir}gmres_vs_fno.pdf\")"
   ]
  },
  {
   "cell_type": "code",
   "execution_count": null,
   "id": "24649ce6",
   "metadata": {},
   "outputs": [],
   "source": []
  }
 ],
 "metadata": {
  "kernelspec": {
   "display_name": "fenics_legacy",
   "language": "python",
   "name": "python3"
  },
  "language_info": {
   "codemirror_mode": {
    "name": "ipython",
    "version": 3
   },
   "file_extension": ".py",
   "mimetype": "text/x-python",
   "name": "python",
   "nbconvert_exporter": "python",
   "pygments_lexer": "ipython3",
   "version": "3.12.2"
  }
 },
 "nbformat": 4,
 "nbformat_minor": 5
}
