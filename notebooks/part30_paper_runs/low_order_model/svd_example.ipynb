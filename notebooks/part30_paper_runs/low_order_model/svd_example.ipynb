{
 "cells": [
  {
   "cell_type": "code",
   "execution_count": null,
   "metadata": {},
   "outputs": [],
   "source": [
    "import sys\n",
    "from architecture.session_bigdata import Session, egeofno_ver1, egeofno_ver2, \\\n",
    "    egeofno_ver3, egeofno_ver4, svdfno_ver1, svdfno_ver2, svdfno_ver3, svdfno_ver4\n",
    "\n",
    "from torch import nn\n",
    "######### FIX MATRIX PLOTTING TAMALE #####\n",
    "N_train = 1\n",
    "#data_dir = \"/home/emastr/deep-micro-slip-model/data/micro_geometries_boundcurv_repar_256_torch/data_big_clean.torch\"\n",
    "data_dir = \"/home/emastr/deep-micro-slip-model/data/micro_geometries_boundcurv_repar_256_torch_high_variance/\"\n",
    "#save_dir = \"/mnt/data0/emastr/article_training_nodecay/\"\n",
    "save_dir = \"/mnt/data0/emastr/article_training_hugedata/\"\n",
    "dash_dir = \"/home/emastr/deep-micro-slip-model/data/dashboard/egeofno_huge/\"\n",
    "\n",
    "\n",
    "class simpleSVD(nn.Model):\n",
    "    def __init__(self, degree_in, degree_out, channels):\n",
    "        self.ch = channels\n",
    "        self.d_out = degree_out\n",
    "        self.dc_in = channels*degree_in\n",
    "        self.dc_out = channels*degree_out\n",
    "        self.U = nn.Parameter(torch.randn(self.dc_out self.dc_in), device=device)\n",
    "        self.V = nn.Parameter(torch.randn(self.shape+ shape, device=device))\n",
    "        self.S = nn.Parameter(torch.randn((degree, 1), device=device))\n",
    "        super(simpleSVD, self).__init__()\n",
    "        \n",
    "device = \"cuda:1\"\n",
    "save_name = f\"fno_ver1_seed{seed}\"\n",
    "net = egeofno_ver1(device=device)\n",
    "session = Session(net, save_name=save_name, save_dir=save_dir, dash_dir=dash_dir, device=device, path_data=data_dir)\n",
    "session.train_nsteps(N_train)"
   ]
  }
 ],
 "metadata": {
  "language_info": {
   "name": "python"
  }
 },
 "nbformat": 4,
 "nbformat_minor": 2
}
