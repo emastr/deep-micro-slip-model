{
 "cells": [
  {
   "cell_type": "code",
   "execution_count": 1,
   "metadata": {},
   "outputs": [],
   "source": [
    "import numpy as np\n",
    "import matplotlib.pyplot as plt\n",
    "from util.logger import EventTracker\n",
    "from util.basis_scaled import *\n",
    "from util.plot_tools import *\n",
    "from boundary_solvers.gauss_grid_2d import StokesDirichletProblem\n",
    "from scipy.io import loadmat\n",
    "import matplotlib.pyplot as plt\n",
    "from util.interp import PiecewiseInterp2D\n",
    "from hmm.stokes import *\n",
    "from itertools import product\n",
    "from hmm.stokes_deep import DeepMicroSolver, get_net\n",
    "import matplotlib\n",
    "import torch.nn as nn\n",
    "\n",
    "#matplotlib.rcParams['text.usetex'] = True\n",
    "#pretty_pyplot_layout()\n",
    "\n",
    "np.random.seed(0)\n",
    "net_dir = \"/mnt/data0/emastr/article_training_nodecay/\"\n",
    "MESH_PATH = \"/home/emastr/deep-micro-slip-model/data/mesh/\"\n",
    "figures_dir = \"/home/emastr/deep-micro-slip-model/data/figures/\"\n",
    "simulation_dir = \"/home/emastr/deep-micro-slip-model/data/stokes_fenics/\"\n",
    "run_dir = \"/home/emastr/deep-micro-slip-model/data/reference_2/\"\n",
    "\n",
    "#save_dir = \"/home/emastr/deep-micro-slip-model/data/hmm_coupling_error/\"\n",
    "save_dir = \"/mnt/data0/emastr/hmm_coupling_v2/\"\n",
    "deep_save_dir = \"/mnt/data0/emastr/hmm_coupling_deep/\""
   ]
  },
  {
   "cell_type": "code",
   "execution_count": 2,
   "metadata": {},
   "outputs": [],
   "source": [
    "from dataclasses import dataclass\n",
    "from multiprocessing import Pool\n",
    "\n",
    "@dataclass\n",
    "class HyperParams:\n",
    "    nMic: int\n",
    "    xDim: int\n",
    "    yDim: int\n",
    "    width: float\n",
    "    height: float\n",
    "    tol: float\n",
    "    max_iter: int\n",
    "    num_pts: int\n",
    "    \n",
    "    \n",
    "class Setup():\n",
    "    def __init__(self, data: StokesData, param: HyperParams):#, net: nn.Module, net_settings: dict):\n",
    "        \"\"\"Create a new HMM setup with the given parameters.\"\"\"\n",
    "        self.params = param\n",
    "        self.data = data\n",
    "        \n",
    "        # Macro problem\n",
    "        macro = StokesMacProb(data, lambda x,a: fft_interp(x, a, dom=data.dom[0]))\n",
    "        macro_solver = MacroSolver(param.xDim, param.yDim, tol=param.tol)\n",
    "        \n",
    "        # Micro problems\n",
    "        self.xPos = np.linspace(data.dom[0][0], data.dom[0][1], param.nMic+1)[1:] - param.width/2 - (data.dom[0][1]-data.dom[0][0]) / param.nMic/1\n",
    "        micros = [StokesTrapezMicProb(data, x, param.width, param.height, 0.0, 8, param.xDim, param.yDim, num_pts=param.num_pts) for x in self.xPos]\n",
    "        micro_solvers = [MicroSolver(m, tol=param.tol) for m in micros]\n",
    "        #deep_micro_solvers = [DeepMicroSolver(m, net, net_settings, tol=param.tol) for m in micros]\n",
    "        \n",
    "        # Convergence checker\n",
    "        conv_checker = ConvergenceChecker(macro, micros, tol=param.tol)\n",
    "        \n",
    "        # HMM problem\n",
    "        self.hmm_problem = StokesHMMProblem(macro, micros, data, convergence_checker=conv_checker)\n",
    "        self.hmm_solver = IterativeHMMSolver(macro_solver, micro_solvers)\n",
    "        #self.hmm_deep_solver = IterativeHMMSolver(macro_solver, deep_micro_solvers)\n",
    "        \n",
    "        \n",
    "    def solve(self, **kwargs):\n",
    "        macro_guess = self.hmm_solver.macro_solver.solve(self.hmm_problem.macro)\n",
    "        (macro_sol, micro_sols) = self.hmm_solver.solve(self.hmm_problem, macro_guess=macro_guess, verbose=True, maxiter=self.params.max_iter, tol=self.params.tol)\n",
    "        #(deep_macro_sol, deep_micro_sols) = self.hmm_deep_solver.solve(self.hmm_problem, macro_guess=macro_guess, verbose=True, maxiter=self.params.max_iter, tol=self.params.tol)\n",
    "        \n",
    "        return micro_sols, macro_sol, macro_guess #deep_micro_sols, deep_macro_sol, macro_guess\n",
    "    \n",
    "    \n",
    "    def save_sol(self, macro_sol, filename):\n",
    "        data = self.params.__dict__\n",
    "        data['mic_sol'] = [m.avg_vec for m in self.hmm_solver.micro_solvers]\n",
    "        data['sol_u'] = macro_sol.u.eval_grid()\n",
    "        data['sol_v'] = macro_sol.v.eval_grid()\n",
    "        #data['deep_sol_u'] = deep_macro_sol.u.eval_grid()\n",
    "        #data['deep_sol_v'] = deep_macro_sol.v.eval_grid()\n",
    "        #print(np.linalg.norm(data['sol_u'] - data['deep_sol_u'])/np.linalg.norm(data['sol_u']))\n",
    "        np.save(filename, data)\n",
    "        \n",
    "    @staticmethod\n",
    "    def load_sol(filename):\n",
    "        data = np.load(filename, allow_pickle=True).flatten()[0]\n",
    "        u = data.pop('sol_u')\n",
    "        v = data.pop('sol_v')\n",
    "        m = data.pop('mic_sol')\n",
    "        #u_deep = data.pop('deep_sol_u')\n",
    "        #v_deep = data.pop('deep_sol_v')\n",
    "        par = HyperParams(**data)\n",
    "        return par, u, v, m#, u_deep, v_deep"
   ]
  },
  {
   "cell_type": "code",
   "execution_count": 3,
   "metadata": {},
   "outputs": [
    {
     "name": "stdout",
     "output_type": "stream",
     "text": [
      "Step 26/30tep 5/30Step 0/30Step 7/30Step 7/30Step 7/30Step 7/30Step 9/30Step 7/30\r"
     ]
    }
   ],
   "source": [
    "from multiprocessing import Pool\n",
    "#step = [1]#[1, 2, 3, 4, 6, 8, 11, 16, 22, 32, 46, 64]#, 128]\n",
    "step = [1, 2, 3, 4, 6, 8, 11, 16, 22, 32, 46, 64]#, 128]\n",
    "#M_list = [256]#[s * 20 for s in step]\n",
    "M_list = [s * 20 for s in step]\n",
    "#i_list = list(range(2,80,8))#:list(range(50,60,1))\n",
    "i_list = [2, 42-16, 42, 42+16]#\n",
    "\n",
    "\n",
    "for i in i_list:\n",
    "    \n",
    "    def run(m):\n",
    "        with open(f\"/home/emastr/deep-micro-slip-model/data/logs/classical.log\", \"a\") as f:\n",
    "            f.write(f\"START --- Running sim {i} with {m} discretisation points \\n\")\n",
    "        data, info = StokesData.load_from_matlab(f\"{run_dir}run_{i}.mat\")\n",
    "        data_big_domain = data\n",
    "        dom = data.dom\n",
    "        eps = info[\"eps\"]\n",
    "        n = 7\n",
    "        w = 5\n",
    "\n",
    "        params = HyperParams(nMic=n, xDim=21, yDim=21, width=w*eps, height=w*eps*0.8, tol=1e-8, max_iter=30, num_pts=m)\n",
    "        setup = Setup(data, params)\n",
    "        micro_sols, macro_sol, macro_guess = setup.solve()\n",
    "        setup.save_sol(macro_sol, f\"{save_dir}big_run_{i}_{m}_sol.npy\")\n",
    "                \n",
    "        with open(f\"/home/emastr/deep-micro-slip-model/data/logs/classical.log\", \"a\") as f:\n",
    "            f.write(f\"----- END Running sim {i} with {m} discretisation points \\n\")\n",
    "    \n",
    "    p = Pool(16)\n",
    "    p.map(run, M_list)\n",
    "#    for m in M_list:\n",
    "#        print(f\"Solving sim {i} with {m} discretisation points\")\n",
    "#        data, info = StokesData.load_from_matlab(f\"{run_dir}run_{i}.mat\")\n",
    "#        data_big_domain = data\n",
    "#        dom = data.dom\n",
    "#        eps = info[\"eps\"]\n",
    "#        n = 7\n",
    "#        w = 5#\n",
    "#\n",
    "#        params = HyperParams(nMic=n, xDim=21, yDim=21, width=w*eps, height=w*eps*0.8, tol=1e-8, max_iter=30, num_pts=m)\n",
    "#        setup = Setup(data, params)\n",
    "#        micro_sols, macro_sol, macro_guess = setup.solve()#\n",
    "#\n",
    "#        problem = StokesTrapezMicProb(data, 0.0, params.width, params.height, 0.0, 8, params.xDim, params.yDim, num_pts=m)\n",
    "#        solver = MicroSolver(problem, tol=1e-10)\n",
    "#        setup.save_sol(macro_sol, f\"{save_dir}big_run_{i}_{m}_sol.npy\")"
   ]
  },
  {
   "cell_type": "code",
   "execution_count": null,
   "metadata": {},
   "outputs": [
    {
     "ename": "FileNotFoundError",
     "evalue": "[Errno 2] No such file or directory: '/mnt/data0/emastr/hmm_coupling/run_2_1024_sol.npy'",
     "output_type": "error",
     "traceback": [
      "\u001b[0;31m---------------------------------------------------------------------------\u001b[0m",
      "\u001b[0;31mFileNotFoundError\u001b[0m                         Traceback (most recent call last)",
      "Cell \u001b[0;32mIn[5], line 6\u001b[0m\n\u001b[1;32m      3\u001b[0m i_list \u001b[38;5;241m=\u001b[39m [\u001b[38;5;241m2\u001b[39m, \u001b[38;5;241m42\u001b[39m, \u001b[38;5;241m74\u001b[39m]\n\u001b[1;32m      5\u001b[0m \u001b[38;5;28;01mfor\u001b[39;00m i \u001b[38;5;129;01min\u001b[39;00m i_list:\n\u001b[0;32m----> 6\u001b[0m     param_true, u_true, v_true, micsol_true \u001b[38;5;241m=\u001b[39m \u001b[43mSetup\u001b[49m\u001b[38;5;241;43m.\u001b[39;49m\u001b[43mload_sol\u001b[49m\u001b[43m(\u001b[49m\u001b[38;5;124;43mf\u001b[39;49m\u001b[38;5;124;43m\"\u001b[39;49m\u001b[38;5;132;43;01m{\u001b[39;49;00m\u001b[43msave_dir\u001b[49m\u001b[38;5;132;43;01m}\u001b[39;49;00m\u001b[38;5;124;43mrun_\u001b[39;49m\u001b[38;5;132;43;01m{\u001b[39;49;00m\u001b[43mi\u001b[49m\u001b[38;5;132;43;01m}\u001b[39;49;00m\u001b[38;5;124;43m_\u001b[39;49m\u001b[38;5;132;43;01m{\u001b[39;49;00m\u001b[43mM_list\u001b[49m\u001b[43m[\u001b[49m\u001b[38;5;241;43m-\u001b[39;49m\u001b[38;5;241;43m1\u001b[39;49m\u001b[43m]\u001b[49m\u001b[38;5;132;43;01m}\u001b[39;49;00m\u001b[38;5;124;43m_sol.npy\u001b[39;49m\u001b[38;5;124;43m\"\u001b[39;49m\u001b[43m)\u001b[49m\n\u001b[1;32m      7\u001b[0m     coupling_error \u001b[38;5;241m=\u001b[39m []\n\u001b[1;32m      8\u001b[0m     micro_error \u001b[38;5;241m=\u001b[39m []\n",
      "Cell \u001b[0;32mIn[4], line 61\u001b[0m, in \u001b[0;36mSetup.load_sol\u001b[0;34m(filename)\u001b[0m\n\u001b[1;32m     59\u001b[0m \u001b[38;5;129m@staticmethod\u001b[39m\n\u001b[1;32m     60\u001b[0m \u001b[38;5;28;01mdef\u001b[39;00m \u001b[38;5;21mload_sol\u001b[39m(filename):\n\u001b[0;32m---> 61\u001b[0m     data \u001b[38;5;241m=\u001b[39m \u001b[43mnp\u001b[49m\u001b[38;5;241;43m.\u001b[39;49m\u001b[43mload\u001b[49m\u001b[43m(\u001b[49m\u001b[43mfilename\u001b[49m\u001b[43m,\u001b[49m\u001b[43m \u001b[49m\u001b[43mallow_pickle\u001b[49m\u001b[38;5;241;43m=\u001b[39;49m\u001b[38;5;28;43;01mTrue\u001b[39;49;00m\u001b[43m)\u001b[49m\u001b[38;5;241m.\u001b[39mflatten()[\u001b[38;5;241m0\u001b[39m]\n\u001b[1;32m     62\u001b[0m     u \u001b[38;5;241m=\u001b[39m data\u001b[38;5;241m.\u001b[39mpop(\u001b[38;5;124m'\u001b[39m\u001b[38;5;124msol_u\u001b[39m\u001b[38;5;124m'\u001b[39m)\n\u001b[1;32m     63\u001b[0m     v \u001b[38;5;241m=\u001b[39m data\u001b[38;5;241m.\u001b[39mpop(\u001b[38;5;124m'\u001b[39m\u001b[38;5;124msol_v\u001b[39m\u001b[38;5;124m'\u001b[39m)\n",
      "File \u001b[0;32m~/anaconda3/envs/fenics_legacy/lib/python3.12/site-packages/numpy/lib/npyio.py:427\u001b[0m, in \u001b[0;36mload\u001b[0;34m(file, mmap_mode, allow_pickle, fix_imports, encoding, max_header_size)\u001b[0m\n\u001b[1;32m    425\u001b[0m     own_fid \u001b[38;5;241m=\u001b[39m \u001b[38;5;28;01mFalse\u001b[39;00m\n\u001b[1;32m    426\u001b[0m \u001b[38;5;28;01melse\u001b[39;00m:\n\u001b[0;32m--> 427\u001b[0m     fid \u001b[38;5;241m=\u001b[39m stack\u001b[38;5;241m.\u001b[39menter_context(\u001b[38;5;28;43mopen\u001b[39;49m\u001b[43m(\u001b[49m\u001b[43mos_fspath\u001b[49m\u001b[43m(\u001b[49m\u001b[43mfile\u001b[49m\u001b[43m)\u001b[49m\u001b[43m,\u001b[49m\u001b[43m \u001b[49m\u001b[38;5;124;43m\"\u001b[39;49m\u001b[38;5;124;43mrb\u001b[39;49m\u001b[38;5;124;43m\"\u001b[39;49m\u001b[43m)\u001b[49m)\n\u001b[1;32m    428\u001b[0m     own_fid \u001b[38;5;241m=\u001b[39m \u001b[38;5;28;01mTrue\u001b[39;00m\n\u001b[1;32m    430\u001b[0m \u001b[38;5;66;03m# Code to distinguish from NumPy binary files and pickles.\u001b[39;00m\n",
      "\u001b[0;31mFileNotFoundError\u001b[0m: [Errno 2] No such file or directory: '/mnt/data0/emastr/hmm_coupling/run_2_1024_sol.npy'"
     ]
    }
   ],
   "source": [
    "step = [1, 2, 4, 8, 16, 32, 64]\n",
    "M_list = [s * 16 for s in step]\n",
    "i_list = [2, 42, 74]\n",
    "\n",
    "for i in i_list:\n",
    "    param_true, u_true, v_true, micsol_true = Setup.load_sol(f\"{save_dir}big_run_{i}_{M_list[-1]}_sol.npy\")\n",
    "    coupling_error = []\n",
    "    micro_error = []\n",
    "    data, info = StokesData.load_from_matlab(f\"{run_dir}run_{i}.mat\")\n",
    "    for s, m in zip(step[:-1], M_list[:-1]):\n",
    "        param, u, v, micsol = Setup.load_sol(f\"{save_dir}run_{i}_{m}_sol.npy\")\n",
    "        #print(f\"Error for sim {i} with {m} discretisation points\")\n",
    "        (N, M) = u.shape\n",
    "        eps = info[\"eps\"]\n",
    "        \n",
    "        \n",
    "        micro_error.append(np.linalg.norm(micsol[0][::s] - micsol_true[0][::step[-1]])/np.linalg.norm(micsol_true[0][::step[-1]]))\n",
    "        coupling_error.append(np.linalg.norm(u - u_true)/np.linalg.norm(u_true))\n",
    "    #plt.plot(M_list[:-1], coupling_error, label=f\"$epsilon = {eps:.0e}$\")\n",
    "    plt.plot(micro_error, coupling_error, label=f\"$epsilon = {eps:.0e}$\")\n",
    "plt.legend()\n",
    "plt.xscale(\"log\")\n",
    "plt.yscale(\"log\")\n",
    "plt.xlabel(\"Normalized error in micro solution\")\n",
    "plt.ylabel(\"Normalized error in HMM solution\")\n",
    "\n",
    "plt.figure()\n",
    "plt.imshow(u)\n",
    "        \n",
    "    \n"
   ]
  },
  {
   "cell_type": "code",
   "execution_count": null,
   "metadata": {},
   "outputs": [
    {
     "name": "stdout",
     "output_type": "stream",
     "text": [
      "2, f=4, e=0.001\n",
      "10, f=4, e=0.002\n",
      "18, f=4, e=0.003\n",
      "26, f=4, e=0.005\n",
      "34, f=4, e=0.008\n",
      "42, f=4, e=0.013\n",
      "50, f=4, e=0.022\n",
      "58, f=4, e=0.036\n",
      "66, f=4, e=0.060\n",
      "74, f=4, e=0.100\n"
     ]
    }
   ],
   "source": [
    "#print(info)\n",
    "for i in range(2,80,8):\n",
    "    data, info = StokesData.load_from_matlab(f\"{run_dir}run_{i}.mat\")\n",
    "    print(f\"{i}, f={info[\"freq_g\"]}, e={info[\"eps\"]:.3f}\")"
   ]
  },
  {
   "cell_type": "code",
   "execution_count": null,
   "metadata": {},
   "outputs": [
    {
     "data": {
      "image/png": "[encoded data removed]",
      "text/plain": [
       "<Figure size 640x480 with 1 Axes>"
      ]
     },
     "metadata": {},
     "output_type": "display_data"
    }
   ],
   "source": [
    "vecs = []\n",
    "step = [1, 2, 4, 8, 16, 32, 64, 128]\n",
    "M_list = [s * 16 for s in step]\n",
    "for m in M_list:\n",
    "    problem = StokesTrapezMicProb(data, 0.0, params.width, params.height, 0.0, 8, params.xDim, params.yDim, num_pts=m)\n",
    "    solver = MicroSolver(problem, tol=1e-10)\n",
    "    vecs.append(solver.avg_vec)\n",
    "    problem.plot(plt.gca())\n",
    "    "
   ]
  },
  {
   "cell_type": "code",
   "execution_count": null,
   "metadata": {},
   "outputs": [
    {
     "data": {
      "text/plain": [
       "[<matplotlib.lines.Line2D at 0x7fb7b38a64e0>]"
      ]
     },
     "execution_count": 43,
     "metadata": {},
     "output_type": "execute_result"
    },
    {
     "data": {
      "image/png": "[encoded data removed]",
      "text/plain": [
       "<Figure size 640x480 with 1 Axes>"
      ]
     },
     "metadata": {},
     "output_type": "display_data"
    }
   ],
   "source": [
    "vec_downsamp = [r[::s] for r,s in zip(vecs, step)]\n",
    "error = [np.linalg.norm(v - vec_downsamp[-1])/np.linalg.norm(vecs[-1]) for v in vec_downsamp[:-1]]\n",
    "\n",
    "plt.loglog(M_list[:-1], error, 'r*-')"
   ]
  },
  {
   "cell_type": "code",
   "execution_count": null,
   "metadata": {},
   "outputs": [],
   "source": [
    "# range of data to use : 25 - 59\n",
    "    \n",
    "w_list = [3]\n",
    "n_list = [13]\n",
    "num_pts = [m]\n",
    "i_list = list(range(50, 60, 1))\n",
    "\n",
    "args = [(i, n, w) for i, n, w in product(i_list, n_list, w_list)]\n",
    "\n",
    "def solve_save(i, n, w):\n",
    "    data, info = StokesData.load_from_matlab(f\"{run_dir}run_{i}.mat\")\n",
    "    data_big_domain = data\n",
    "    dom = data.dom\n",
    "    eps = info[\"eps\"]\n",
    "    print(f\"i={i}, (n={n}, w={w}\")\n",
    "    params = HyperParams(nMic=n, xDim=21, yDim=21, width=w*eps, height=w*eps*0.8, tol=1e-8, max_iter=30, num_pts=m)\n",
    "    setup = Setup(data, params)\n",
    "    micro_sols, macro_sol, macro_guess = setup.solve()\n",
    "    setup.save_sol(macro_sol, f\"{save_dir}/sol_{i}_{n}_{w}.npy\")"
   ]
  },
  {
   "cell_type": "code",
   "execution_count": null,
   "metadata": {},
   "outputs": [
    {
     "name": "stdout",
     "output_type": "stream",
     "text": [
      "i=50, (n=13, w=3\n",
      "i=52, (n=13, w=3i=54, (n=13, w=3i=53, (n=13, w=3i=55, (n=13, w=3i=56, (n=13, w=3i=57, (n=13, w=3\n",
      "\n",
      "\n",
      "\n",
      "\n",
      "\n",
      "i=51, (n=13, w=3\n",
      "Step 7/30Step 4/30Step 4/30\r"
     ]
    }
   ],
   "source": [
    "\n",
    "Pool(8).starmap(solve_save, args)"
   ]
  }
 ],
 "metadata": {
  "kernelspec": {
   "display_name": "fenics_legacy",
   "language": "python",
   "name": "python3"
  },
  "language_info": {
   "codemirror_mode": {
    "name": "ipython",
    "version": 3
   },
   "file_extension": ".py",
   "mimetype": "text/x-python",
   "name": "python",
   "nbconvert_exporter": "python",
   "pygments_lexer": "ipython3",
   "version": "3.12.2"
  }
 },
 "nbformat": 4,
 "nbformat_minor": 2
}
