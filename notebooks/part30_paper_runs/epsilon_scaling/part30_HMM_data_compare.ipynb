{
 "cells": [
  {
   "cell_type": "code",
   "execution_count": 1,
   "metadata": {},
   "outputs": [],
   "source": [
    "import numpy as np\n",
    "import matplotlib.pyplot as plt\n",
    "from util.logger import EventTracker\n",
    "from util.basis_scaled import *\n",
    "from util.plot_tools import *\n",
    "from boundary_solvers.gauss_grid_2d import StokesDirichletProblem\n",
    "from scipy.io import loadmat\n",
    "import matplotlib.pyplot as plt\n",
    "from util.interp import PiecewiseInterp2D\n",
    "from hmm.stokes import *\n",
    "from itertools import product\n",
    "from hmm.stokes_deep import DeepMicroSolver, get_net\n",
    "import matplotlib\n",
    "import torch.nn as nn\n",
    "import matplotlib as mpl\n",
    "\n",
    "#matplotlib.rcParams['text.usetex'] = True\n",
    "#pretty_pyplot_layout()\n",
    "\n",
    "np.random.seed(0)\n",
    "net_dir = \"/mnt/data0/emastr/article_training_lowline/\"\n",
    "figures_dir = \"/home/emastr/deep-micro-slip-model/data/figures/\"\n",
    "run_dir = \"/home/emastr/deep-micro-slip-model/data/reference_2/\"\n",
    "\n",
    "#save_dir = \"/home/emastr/deep-micro-slip-model/data/hmm_coupling_error/\"\n",
    "save_dir = \"/mnt/data0/emastr/hmm_coupling/\"\n",
    "deep_save_dir = \"/mnt/data0/emastr/hmm_coupling_deep/\""
   ]
  },
  {
   "cell_type": "code",
   "execution_count": null,
   "metadata": {},
   "outputs": [],
   "source": []
  }
 ],
 "metadata": {
  "kernelspec": {
   "display_name": "pimlenv",
   "language": "python",
   "name": "python3"
  },
  "language_info": {
   "codemirror_mode": {
    "name": "ipython",
    "version": 3
   },
   "file_extension": ".py",
   "mimetype": "text/x-python",
   "name": "python",
   "nbconvert_exporter": "python",
   "pygments_lexer": "ipython3",
   "version": "3.12.2"
  }
 },
 "nbformat": 4,
 "nbformat_minor": 2
}
