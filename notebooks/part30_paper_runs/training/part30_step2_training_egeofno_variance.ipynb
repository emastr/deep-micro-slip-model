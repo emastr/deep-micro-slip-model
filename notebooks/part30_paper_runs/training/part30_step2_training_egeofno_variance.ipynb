{
 "cells": [
  {
   "cell_type": "markdown",
   "metadata": {},
   "source": [
    "## Training with a ```Session``` object"
   ]
  },
  {
   "cell_type": "code",
   "execution_count": 3,
   "metadata": {},
   "outputs": [],
   "source": [
    "import sys\n",
    "from architecture.session import Session, egeofno_ver1, egeofno_ver2, \\\n",
    "    egeofno_ver3, egeofno_ver4, svdfno_ver1, svdfno_ver2, svdfno_ver3, svdfno_ver4\n",
    "\n",
    "######### FIX MATRIX PLOTTING TAMALE #####\n",
    "N_train = 40001\n",
    "#data_dir = \"/home/emastr/deep-micro-slip-model/data/micro_geometries_boundcurv_repar_256_torch/data_big_clean.torch\"\n",
    "data_dir = \"/home/emastr/deep-micro-slip-model/data/micro_geometries_boundcurv_repar_256_torch_lowline/data_big_clean.torch\"\n",
    "data_dir = \"/home/emastr/deep-micro-slip-model/data/micro_geometries_boundcurv_repar_256_torch_high_variance/data_big_clean.torch\"\n",
    "#save_dir = \"/mnt/data0/emastr/article_training_nodecay/\"\n",
    "save_dir = \"/mnt/data0/emastr/article_training_lowline/\"\n",
    "dash_dir = \"/home/emastr/deep-micro-slip-model/data/dashboard/egeofno/\""
   ]
  },
  {
   "cell_type": "code",
   "execution_count": 4,
   "metadata": {},
   "outputs": [
    {
     "name": "stdout",
     "output_type": "stream",
     "text": [
      "Warning: old skipnet had no scale parameter\n"
     ]
    },
    {
     "ename": "OutOfMemoryError",
     "evalue": "CUDA out of memory. Tried to allocate 236.00 MiB. GPU 1 has a total capacity of 23.70 GiB of which 237.81 MiB is free. Process 1028263 has 20.26 GiB memory in use. Including non-PyTorch memory, this process has 3.20 GiB memory in use. Of the allocated memory 1.57 GiB is allocated by PyTorch, and 114.95 MiB is reserved by PyTorch but unallocated. If reserved but unallocated memory is large try setting PYTORCH_CUDA_ALLOC_CONF=expandable_segments:True to avoid fragmentation.  See documentation for Memory Management  (https://pytorch.org/docs/stable/notes/cuda.html#environment-variables)",
     "output_type": "error",
     "traceback": [
      "\u001b[0;31m---------------------------------------------------------------------------\u001b[0m",
      "\u001b[0;31mOutOfMemoryError\u001b[0m                          Traceback (most recent call last)",
      "Cell \u001b[0;32mIn[4], line 5\u001b[0m\n\u001b[1;32m      3\u001b[0m save_name \u001b[38;5;241m=\u001b[39m \u001b[38;5;124mf\u001b[39m\u001b[38;5;124m\"\u001b[39m\u001b[38;5;124mfno_ver1_seed\u001b[39m\u001b[38;5;132;01m{\u001b[39;00mseed\u001b[38;5;132;01m}\u001b[39;00m\u001b[38;5;124m\"\u001b[39m\n\u001b[1;32m      4\u001b[0m net \u001b[38;5;241m=\u001b[39m egeofno_ver1(device\u001b[38;5;241m=\u001b[39mdevice)\n\u001b[0;32m----> 5\u001b[0m session \u001b[38;5;241m=\u001b[39m \u001b[43mSession\u001b[49m\u001b[43m(\u001b[49m\u001b[43mnet\u001b[49m\u001b[43m,\u001b[49m\u001b[43m \u001b[49m\u001b[43msave_name\u001b[49m\u001b[38;5;241;43m=\u001b[39;49m\u001b[43msave_name\u001b[49m\u001b[43m,\u001b[49m\u001b[43m \u001b[49m\u001b[43msave_dir\u001b[49m\u001b[38;5;241;43m=\u001b[39;49m\u001b[43msave_dir\u001b[49m\u001b[43m,\u001b[49m\u001b[43m \u001b[49m\u001b[43mdash_dir\u001b[49m\u001b[38;5;241;43m=\u001b[39;49m\u001b[43mdash_dir\u001b[49m\u001b[43m,\u001b[49m\u001b[43m \u001b[49m\u001b[43mdevice\u001b[49m\u001b[38;5;241;43m=\u001b[39;49m\u001b[43mdevice\u001b[49m\u001b[43m,\u001b[49m\u001b[43m \u001b[49m\u001b[43mpath_data\u001b[49m\u001b[38;5;241;43m=\u001b[39;49m\u001b[43mdata_dir\u001b[49m\u001b[43m)\u001b[49m\n\u001b[1;32m      6\u001b[0m session\u001b[38;5;241m.\u001b[39mtrain_nsteps(N_train)\n\u001b[1;32m      9\u001b[0m save_name \u001b[38;5;241m=\u001b[39m \u001b[38;5;124mf\u001b[39m\u001b[38;5;124m\"\u001b[39m\u001b[38;5;124mfno_ver2_seed\u001b[39m\u001b[38;5;132;01m{\u001b[39;00mseed\u001b[38;5;132;01m}\u001b[39;00m\u001b[38;5;124m\"\u001b[39m\n",
      "File \u001b[0;32m~/deep-micro-slip-model/src/architecture/session.py:598\u001b[0m, in \u001b[0;36mSession.__init__\u001b[0;34m(self, net, save_name, weight_decay, path_data, save_dir, dash_dir, device, seed)\u001b[0m\n\u001b[1;32m    596\u001b[0m \u001b[38;5;28mself\u001b[39m\u001b[38;5;241m.\u001b[39mdevice\u001b[38;5;241m=\u001b[39mdevice\n\u001b[1;32m    597\u001b[0m \u001b[38;5;28mself\u001b[39m\u001b[38;5;241m.\u001b[39mpath_data \u001b[38;5;241m=\u001b[39m path_data\n\u001b[0;32m--> 598\u001b[0m \u001b[38;5;28mself\u001b[39m\u001b[38;5;241m.\u001b[39mdata \u001b[38;5;241m=\u001b[39m \u001b[38;5;28;43mself\u001b[39;49m\u001b[38;5;241;43m.\u001b[39;49m\u001b[43mget_data\u001b[49m\u001b[43m(\u001b[49m\u001b[43mnet\u001b[49m\u001b[43m,\u001b[49m\u001b[43m \u001b[49m\u001b[43mpath_data\u001b[49m\u001b[43m,\u001b[49m\u001b[43m \u001b[49m\u001b[43mdevice\u001b[49m\u001b[43m)\u001b[49m   \n\u001b[1;32m    599\u001b[0m M \u001b[38;5;241m=\u001b[39m \u001b[38;5;28mlen\u001b[39m(\u001b[38;5;28mself\u001b[39m\u001b[38;5;241m.\u001b[39mdata)\n\u001b[1;32m    600\u001b[0m M_train, M_batch \u001b[38;5;241m=\u001b[39m \u001b[38;5;28mint\u001b[39m(\u001b[38;5;241m0.8\u001b[39m\u001b[38;5;241m*\u001b[39mM), \u001b[38;5;241m32\u001b[39m\n",
      "File \u001b[0;32m~/deep-micro-slip-model/src/architecture/session.py:631\u001b[0m, in \u001b[0;36mSession.get_data\u001b[0;34m(net, data_dir, device)\u001b[0m\n\u001b[1;32m    629\u001b[0m inp_features \u001b[38;5;241m=\u001b[39m net\u001b[38;5;241m.\u001b[39msettings()[\u001b[38;5;124m\"\u001b[39m\u001b[38;5;124minput_features\u001b[39m\u001b[38;5;124m\"\u001b[39m]\n\u001b[1;32m    630\u001b[0m out_features \u001b[38;5;241m=\u001b[39m net\u001b[38;5;241m.\u001b[39msettings()[\u001b[38;5;124m\"\u001b[39m\u001b[38;5;124moutput_features\u001b[39m\u001b[38;5;124m\"\u001b[39m]\n\u001b[0;32m--> 631\u001b[0m \u001b[38;5;28;01mreturn\u001b[39;00m \u001b[43mGeomData\u001b[49m\u001b[43m(\u001b[49m\u001b[43mdata_dir\u001b[49m\u001b[43m,\u001b[49m\u001b[43m \u001b[49m\u001b[43minp_features\u001b[49m\u001b[43m,\u001b[49m\u001b[43m \u001b[49m\u001b[43mout_features\u001b[49m\u001b[43m,\u001b[49m\u001b[43m \u001b[49m\u001b[43mrandom_roll\u001b[49m\u001b[38;5;241;43m=\u001b[39;49m\u001b[38;5;28;43;01mFalse\u001b[39;49;00m\u001b[43m,\u001b[49m\u001b[43m \u001b[49m\u001b[43mdevice\u001b[49m\u001b[38;5;241;43m=\u001b[39;49m\u001b[43mdevice\u001b[49m\u001b[43m,\u001b[49m\u001b[43m \u001b[49m\u001b[43mdtype\u001b[49m\u001b[38;5;241;43m=\u001b[39;49m\u001b[43mDTYPETORCH\u001b[49m\u001b[43m)\u001b[49m\n",
      "File \u001b[0;32m~/deep-micro-slip-model/src/boundary_solvers/geometry_torch.py:36\u001b[0m, in \u001b[0;36mGeomData.__init__\u001b[0;34m(self, path, input_features, output_features, random_roll, device, dtype)\u001b[0m\n\u001b[1;32m     33\u001b[0m     \u001b[38;5;28mself\u001b[39m\u001b[38;5;241m.\u001b[39moutput_features \u001b[38;5;241m=\u001b[39m output_features\n\u001b[1;32m     35\u001b[0m \u001b[38;5;28mself\u001b[39m\u001b[38;5;241m.\u001b[39mrandom_roll \u001b[38;5;241m=\u001b[39m random_roll\n\u001b[0;32m---> 36\u001b[0m \u001b[38;5;28mself\u001b[39m\u001b[38;5;241m.\u001b[39minp, \u001b[38;5;28mself\u001b[39m\u001b[38;5;241m.\u001b[39mout, \u001b[38;5;28mself\u001b[39m\u001b[38;5;241m.\u001b[39mN \u001b[38;5;241m=\u001b[39m \u001b[38;5;28;43mself\u001b[39;49m\u001b[38;5;241;43m.\u001b[39;49m\u001b[43mload_and_tfm\u001b[49m\u001b[43m(\u001b[49m\u001b[43mpath\u001b[49m\u001b[43m,\u001b[49m\u001b[43m \u001b[49m\u001b[43mdevice\u001b[49m\u001b[43m,\u001b[49m\u001b[43m \u001b[49m\u001b[43mdtype\u001b[49m\u001b[43m)\u001b[49m\n\u001b[1;32m     37\u001b[0m \u001b[38;5;28mself\u001b[39m\u001b[38;5;241m.\u001b[39mX \u001b[38;5;241m=\u001b[39m concat_dict_entries(subdict(\u001b[38;5;28mself\u001b[39m\u001b[38;5;241m.\u001b[39minp, \u001b[38;5;28mself\u001b[39m\u001b[38;5;241m.\u001b[39minput_features))\n\u001b[1;32m     38\u001b[0m \u001b[38;5;28mself\u001b[39m\u001b[38;5;241m.\u001b[39mY \u001b[38;5;241m=\u001b[39m concat_dict_entries(subdict(\u001b[38;5;28mself\u001b[39m\u001b[38;5;241m.\u001b[39mout, \u001b[38;5;28mself\u001b[39m\u001b[38;5;241m.\u001b[39moutput_features))\n",
      "File \u001b[0;32m~/deep-micro-slip-model/src/boundary_solvers/geometry_torch.py:62\u001b[0m, in \u001b[0;36mGeomData.load_and_tfm\u001b[0;34m(path, device, dtype)\u001b[0m\n\u001b[1;32m     59\u001b[0m \u001b[38;5;129m@staticmethod\u001b[39m\n\u001b[1;32m     60\u001b[0m \u001b[38;5;28;01mdef\u001b[39;00m \u001b[38;5;21mload_and_tfm\u001b[39m(path, device, dtype\u001b[38;5;241m=\u001b[39mtorch\u001b[38;5;241m.\u001b[39mdouble):\n\u001b[1;32m     61\u001b[0m     data \u001b[38;5;241m=\u001b[39m subdict(torch\u001b[38;5;241m.\u001b[39mload(path), [\u001b[38;5;124m'\u001b[39m\u001b[38;5;124mX\u001b[39m\u001b[38;5;124m'\u001b[39m, \u001b[38;5;124m'\u001b[39m\u001b[38;5;124mY\u001b[39m\u001b[38;5;124m'\u001b[39m])\n\u001b[0;32m---> 62\u001b[0m     data \u001b[38;5;241m=\u001b[39m to_dtype(\u001b[43mto_device\u001b[49m\u001b[43m(\u001b[49m\u001b[43mdata\u001b[49m\u001b[43m,\u001b[49m\u001b[43m \u001b[49m\u001b[43mdevice\u001b[49m\u001b[43m)\u001b[49m, dtype)\n\u001b[1;32m     63\u001b[0m     inp, out \u001b[38;5;241m=\u001b[39m unpack_data(data)\n\u001b[1;32m     65\u001b[0m     inp \u001b[38;5;241m=\u001b[39m GeomData\u001b[38;5;241m.\u001b[39mtfm_inp(inp)\n",
      "File \u001b[0;32m~/deep-micro-slip-model/src/boundary_solvers/geometry_torch.py:212\u001b[0m, in \u001b[0;36mto_device\u001b[0;34m(data, device)\u001b[0m\n\u001b[1;32m    210\u001b[0m \u001b[38;5;28;01mfor\u001b[39;00m k \u001b[38;5;129;01min\u001b[39;00m data\u001b[38;5;241m.\u001b[39mkeys():\n\u001b[1;32m    211\u001b[0m     \u001b[38;5;28;01mif\u001b[39;00m \u001b[38;5;28misinstance\u001b[39m(data[k], torch\u001b[38;5;241m.\u001b[39mTensor):\n\u001b[0;32m--> 212\u001b[0m         data[k] \u001b[38;5;241m=\u001b[39m \u001b[43mdata\u001b[49m\u001b[43m[\u001b[49m\u001b[43mk\u001b[49m\u001b[43m]\u001b[49m\u001b[38;5;241;43m.\u001b[39;49m\u001b[43mto\u001b[49m\u001b[43m(\u001b[49m\u001b[43mdevice\u001b[49m\u001b[43m)\u001b[49m\n\u001b[1;32m    213\u001b[0m \u001b[38;5;28;01mreturn\u001b[39;00m data\n",
      "\u001b[0;31mOutOfMemoryError\u001b[0m: CUDA out of memory. Tried to allocate 236.00 MiB. GPU 1 has a total capacity of 23.70 GiB of which 237.81 MiB is free. Process 1028263 has 20.26 GiB memory in use. Including non-PyTorch memory, this process has 3.20 GiB memory in use. Of the allocated memory 1.57 GiB is allocated by PyTorch, and 114.95 MiB is reserved by PyTorch but unallocated. If reserved but unallocated memory is large try setting PYTORCH_CUDA_ALLOC_CONF=expandable_segments:True to avoid fragmentation.  See documentation for Memory Management  (https://pytorch.org/docs/stable/notes/cuda.html#environment-variables)"
     ]
    }
   ],
   "source": [
    "device = \"cuda:0\"\n",
    "for seed in [0, 1, 2, 3, 4, 5]:\n",
    "    save_name = f\"fno_ver1_seed{seed}\"\n",
    "    net = egeofno_ver1(device=device)\n",
    "    session = Session(net, save_name=save_name, save_dir=save_dir, dash_dir=dash_dir, device=device, path_data=data_dir)\n",
    "    session.train_nsteps(N_train)\n",
    "    \n",
    "\n",
    "    save_name = f\"fno_ver2_seed{seed}\"\n",
    "    net = egeofno_ver2(device=device)\n",
    "    session = Session(net, save_name=save_name, save_dir=save_dir, dash_dir=dash_dir, device=device, path_data=data_dir)\n",
    "    session.train_nsteps(N_train)\n",
    "    \n",
    "    \n",
    "    save_name = f\"fno_ver3_seed{seed}\"\n",
    "    net = egeofno_ver3(device=device)\n",
    "    session = Session(net, save_name=save_name, save_dir=save_dir, dash_dir=dash_dir, device=device, path_data=data_dir)\n",
    "    session.train_nsteps(N_train)\n",
    "    \n",
    "    \n",
    "    save_name = f\"fno_ver4_seed{seed}\"\n",
    "    net = egeofno_ver4(device=device)\n",
    "    session = Session(net, save_name=save_name, save_dir=save_dir, dash_dir=dash_dir, device=device, path_data=data_dir)\n",
    "    session.train_nsteps(N_train)"
   ]
  }
 ],
 "metadata": {
  "kernelspec": {
   "display_name": "pimlenv",
   "language": "python",
   "name": "python3"
  },
  "language_info": {
   "codemirror_mode": {
    "name": "ipython",
    "version": 3
   },
   "file_extension": ".py",
   "mimetype": "text/x-python",
   "name": "python",
   "nbconvert_exporter": "python",
   "pygments_lexer": "ipython3",
   "version": "3.12.2"
  }
 },
 "nbformat": 4,
 "nbformat_minor": 5
}
