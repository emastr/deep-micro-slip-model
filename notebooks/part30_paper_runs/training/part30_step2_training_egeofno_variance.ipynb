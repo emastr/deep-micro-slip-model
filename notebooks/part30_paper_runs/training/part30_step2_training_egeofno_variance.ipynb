{
 "cells": [
  {
   "cell_type": "markdown",
   "metadata": {},
   "source": [
    "## Training with a ```Session``` object"
   ]
  },
  {
   "cell_type": "code",
   "execution_count": 1,
   "metadata": {},
   "outputs": [],
   "source": [
    "import sys\n",
    "from architecture.session import Session, egeofno_ver1, egeofno_ver2, \\\n",
    "    egeofno_ver3, egeofno_ver4, svdfno_ver1, svdfno_ver2, svdfno_ver3, svdfno_ver4\n",
    "\n",
    "######### FIX MATRIX PLOTTING TAMALE #####\n",
    "N_train = 40001\n",
    "#data_dir = \"/home/emastr/deep-micro-slip-model/data/micro_geometries_boundcurv_repar_256_torch/data_big_clean.torch\"\n",
    "#data_dir = \"/home/emastr/deep-micro-slip-model/data/micro_geometries_boundcurv_repar_256_torch_lowline/data_big_clean.torch\"\n",
    "data_dir = \"/home/emastr/deep-micro-slip-model/data/micro_geometries_boundcurv_repar_256_torch_high_variance/data_big_clean.torch\"\n",
    "#save_dir = \"/mnt/data0/emastr/article_training_nodecay/\"\n",
    "save_dir = \"/mnt/data0/emastr/article_training_lowline/\"\n",
    "dash_dir = \"/home/emastr/deep-micro-slip-model/data/dashboard/egeofno/\""
   ]
  },
  {
   "cell_type": "code",
   "execution_count": 2,
   "metadata": {},
   "outputs": [
    {
     "name": "stdout",
     "output_type": "stream",
     "text": [
      "Warning: old skipnet had no scale parameter\n",
      "Step 1000. Train loss = 2.98e-01, test loss = 1.92e-01, 41 iter/s, shape=256\r"
     ]
    }
   ],
   "source": [
    "device = \"cuda:0\"\n",
    "for seed in [0, 1, 2, 3, 4, 5]:\n",
    "    save_name = f\"fno_ver1_seed{seed}\"\n",
    "    net = egeofno_ver1(device=device)\n",
    "    session = Session(net, save_name=save_name, save_dir=save_dir, dash_dir=dash_dir, device=device, path_data=data_dir)\n",
    "    session.train_nsteps(N_train)\n",
    "    \n",
    "\n",
    "    save_name = f\"fno_ver2_seed{seed}\"\n",
    "    net = egeofno_ver2(device=device)\n",
    "    session = Session(net, save_name=save_name, save_dir=save_dir, dash_dir=dash_dir, device=device, path_data=data_dir)\n",
    "    session.train_nsteps(N_train)\n",
    "    \n",
    "    \n",
    "    save_name = f\"fno_ver3_seed{seed}\"\n",
    "    net = egeofno_ver3(device=device)\n",
    "    session = Session(net, save_name=save_name, save_dir=save_dir, dash_dir=dash_dir, device=device, path_data=data_dir)\n",
    "    session.train_nsteps(N_train)\n",
    "    \n",
    "    \n",
    "    save_name = f\"fno_ver4_seed{seed}\"\n",
    "    net = egeofno_ver4(device=device)\n",
    "    session = Session(net, save_name=save_name, save_dir=save_dir, dash_dir=dash_dir, device=device, path_data=data_dir)\n",
    "    session.train_nsteps(N_train)"
   ]
  }
 ],
 "metadata": {
  "kernelspec": {
   "display_name": "pimlenv",
   "language": "python",
   "name": "python3"
  },
  "language_info": {
   "codemirror_mode": {
    "name": "ipython",
    "version": 3
   },
   "file_extension": ".py",
   "mimetype": "text/x-python",
   "name": "python",
   "nbconvert_exporter": "python",
   "pygments_lexer": "ipython3",
   "version": "3.12.2"
  }
 },
 "nbformat": 4,
 "nbformat_minor": 5
}
