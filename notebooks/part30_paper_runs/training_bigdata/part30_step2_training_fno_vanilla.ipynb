{
 "cells": [
  {
   "cell_type": "markdown",
   "metadata": {},
   "source": [
    "## Training with a ```Session``` object"
   ]
  },
  {
   "cell_type": "code",
   "execution_count": 1,
   "metadata": {},
   "outputs": [],
   "source": [
    "import sys\n",
    "from architecture.session_bigdata import Session, fno_ver1, fno_ver2, fno_ver3, fno_ver4\n",
    "\n",
    "######### FIX MATRIX PLOTTING TAMALE #####\n",
    "N_train = 1\n",
    "#data_dir = \"/home/emastr/deep-micro-slip-model/data/micro_geometries_boundcurv_repar_256_torch/data_big_clean.torch\"\n",
    "data_dir = \"/home/emastr/deep-micro-slip-model/data/micro_geometries_boundcurv_repar_256_torch_high_variance/\"\n",
    "#save_dir = \"/mnt/data0/emastr/article_training_nodecay/\"\n",
    "save_dir = \"/mnt/data0/emastr/article_training_hugedata/\"\n",
    "dash_dir = \"/home/emastr/deep-micro-slip-model/data/dashboard/fno_vanilla_huge/\""
   ]
  },
  {
   "cell_type": "code",
   "execution_count": 2,
   "metadata": {},
   "outputs": [
    {
     "name": "stdout",
     "output_type": "stream",
     "text": [
      "Seed 0, model ver4\n",
      "Warning: old skipnet had no scale parameter\n",
      "Seed 0, model ver2 loss = 3.57e-02, test loss = 2.79e-02, 50 iter/s, shape=256\n",
      "Warning: old skipnet had no scale parameter\n",
      "Seed 0, model ver3 loss = 2.95e-02, test loss = 1.62e-02, 52 iter/s, shape=256\n",
      "Warning: old skipnet had no scale parameter\n",
      "Seed 0, model ver1 loss = 5.26e-02, test loss = 3.98e-02, 49 iter/s, shape=256\n",
      "Warning: old skipnet had no scale parameter\n",
      "Seed 1, model ver4 loss = 5.94e-02, test loss = 3.28e-02, 53 iter/s, shape=256\n",
      "Warning: old skipnet had no scale parameter\n",
      "Seed 1, model ver2 loss = 3.41e-02, test loss = 2.34e-02, 54 iter/s, shape=256\n",
      "Warning: old skipnet had no scale parameter\n",
      "Step 10000. Train loss = 6.47e-02, test loss = 3.81e-02, 48 iter/s, shape=256\r"
     ]
    }
   ],
   "source": [
    "device=\"cuda:1\"\n",
    "for seed in [0, 1, 2, 3, 4, 5]:\n",
    "    \n",
    "    print(f\"Seed {seed}, model ver4\")\n",
    "    save_name = f\"fno_vanilla_ver4_seed{seed}\"\n",
    "    net = fno_ver4(device=device) \n",
    "    session = Session(net, save_name=save_name, save_dir=save_dir, dash_dir=dash_dir + \"v4\", device=device, path_data=data_dir)\n",
    "    session.train_nsteps(N_train)\n",
    "    \n",
    "    print(f\"Seed {seed}, model ver2\")\n",
    "    save_name = f\"fno_vanilla_ver2_seed{seed}\"\n",
    "    net = fno_ver2(device=device) \n",
    "    session = Session(net, save_name=save_name, save_dir=save_dir, dash_dir=dash_dir + \"v2\", device=device, path_data=data_dir)\n",
    "    session.train_nsteps(N_train)\n",
    "    \n",
    "    print(f\"Seed {seed}, model ver3\")    \n",
    "    save_name = f\"fno_vanilla_ver3_seed{seed}\"\n",
    "    net = fno_ver3(device=device) \n",
    "    session = Session(net, save_name=save_name, save_dir=save_dir, dash_dir=dash_dir + \"v3\", device=device, path_data=data_dir)\n",
    "    session.train_nsteps(N_train)\n",
    "    \n",
    "    print(f\"Seed {seed}, model ver1\")\n",
    "    save_name = f\"fno_vanilla_ver1_seed{seed}\"\n",
    "    net = fno_ver1(device=device) \n",
    "    session = Session(net, save_name=save_name, save_dir=save_dir, dash_dir=dash_dir + \"v1\", device=device, path_data=data_dir)\n",
    "    session.train_nsteps(N_train)\n"
   ]
  }
 ],
 "metadata": {
  "kernelspec": {
   "display_name": "pimlenv",
   "language": "python",
   "name": "python3"
  },
  "language_info": {
   "codemirror_mode": {
    "name": "ipython",
    "version": 3
   },
   "file_extension": ".py",
   "mimetype": "text/x-python",
   "name": "python",
   "nbconvert_exporter": "python",
   "pygments_lexer": "ipython3",
   "version": "3.12.2"
  }
 },
 "nbformat": 4,
 "nbformat_minor": 5
}
