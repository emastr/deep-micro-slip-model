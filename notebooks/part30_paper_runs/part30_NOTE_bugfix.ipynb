{
 "cells": [
  {
   "cell_type": "markdown",
   "metadata": {},
   "source": [
    "## Fixing robustness issues\n",
    "\n",
    "We first introduce the simulation quantities.\n",
    "\n",
    "#### Background: Simulation on pipe, hyper parameters\n",
    "        \n",
    "* Macro Problem  \n",
    "    * `eps: float` size and wavelength of roughness\n",
    "    * `xDim, yDim: int[odd]` , number of Fourier/Chebyshev Basis functions. Odd integer.\n",
    "* Micro Problem\n",
    "    * `nMic: int`, number of micro problems\n",
    "    * `xPos: list[float]`, positions of micro domains. Uniform start at x=-1.\n",
    "    * `width: float = eps * 5`, width of micro domain.0\n",
    "    * `height: float = width * 0.8`, height of micro domain.\n",
    "    * `n_refine: int`, number of dyadic refinements of mesh.\n",
    "* Micro <- Macro coupling\n",
    "    * `deg_project: int = 8` , degree of polynomial for extrapolation. (8 is standard)\n",
    "    * `xDim_reduce, yDim_reduce: int = 5` , number of Fourier/Chebyshev modes\n",
    "\n",
    "### <b> Current Issue </b>:\n",
    "\n",
    "Has to do with metrics 1 -- 2\n",
    "\n",
    "#### Metric 1\n",
    "Let \n",
    "* $u_\\epsilon$=true, \n",
    "* $\\overline{u}$= HMM,\n",
    "* $\\tilde{u}$ =deep HMM,\n",
    "* $u= \\phi \\circledast u_\\epsilon$, low pass true\n",
    "\n",
    "For all $v = u_\\epsilon, \\tilde{u}, u$ we measure the relative error\n",
    "$\n",
    "    e = \\frac{\\| \\overline{u} - v\\|}{\\|v\\|},\n",
    "$\n",
    "where the norm is taken over the domain $\\{y < \\epsilon\\log \\epsilon\\}$. Further, let \n",
    "\n",
    "* $\\rilde r$ riesz representor with \n",
    "\n",
    "\n",
    "\n",
    "\n",
    "##### Excluded and included\n",
    "We divide the parameters of HMM for stokes into categories based on the data type and application.  \n",
    "We make some simplifications to reduce degrees of freedom. The notable omissions are highlighted in ~~strikethrough~~.\n"
   ]
  },
  {
   "cell_type": "markdown",
   "metadata": {},
   "source": [
    "F"
   ]
  }
 ],
 "metadata": {
  "language_info": {
   "name": "python"
  }
 },
 "nbformat": 4,
 "nbformat_minor": 2
}
