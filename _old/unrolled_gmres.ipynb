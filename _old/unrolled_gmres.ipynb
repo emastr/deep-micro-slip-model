{
 "cells": [
  {
   "cell_type": "code",
   "execution_count": 11,
   "id": "c573a668",
   "metadata": {},
   "outputs": [],
   "source": [
    "import torch\n",
    "import torch.autograd as agrad\n",
    "import numpy as np\n",
    "import matplotlib.pyplot as plt\n",
    "from operators.stokes_operator import StokesOperator\n",
    "\n",
    "\n",
    "# Example of simple boundary\n",
    "N = 100\n",
    "dt = np.pi * 2 / N\n",
    "t  = torch.arange(0,N) * dt\n",
    "z = torch.exp(1j * t) + 0.1 * torch.exp(5j * t)\n",
    "dz = 1j * torch.exp(1j * t) + 0.1 * 5j * torch.exp(5j * t);\n",
    "ddz = 1j * 1j *torch.exp(1j * t) + 0.1 * 5j * 5j * torch.exp(5j * t);\n",
    "w = torch.ones(N,) * dt\n",
    "\n",
    "# Stokes operator\n",
    "A = StokesOperator(z, dz, ddz, w)\n",
    "\n",
    "# Network\n",
    "a = torch.Tensor([1.5])\n",
    "a.requires_grad_(True)\n",
    "\n",
    "# Target density\n",
    "v0 = torch.exp(2j * t)[None, None, :]\n",
    "\n",
    "\n",
    "# Network\n",
    "def net(a):\n",
    "    v = torch.exp(1j * a * t)[None, None, :]\n",
    "    v.requires_grad_(True)\n",
    "    for i in range(5):\n",
    "        mse = torch.norm(A(v) - v0)**2\n",
    "        v = v - 0.1 * agrad.grad(mse, v, retain_graph=True, create_graph=True)[0]\n",
    "    return v\n",
    "\n",
    "# Training\n",
    "grads = []\n",
    "alist = torch.linspace(0.5,3,20)\n",
    "for ai in alist:\n",
    "    ai.requires_grad_(True)\n",
    "    loss = torch.norm(net(ai) - v0) ** 2\n",
    "    \n",
    "    ai.retain_grad()\n",
    "    loss.backward()\n",
    "    \n",
    "    grads.append(ai.grad.numpy())\n",
    "\n",
    "    \n",
    "a_train = []\n",
    "agrad_train = []\n",
    "for i in range(30):\n",
    "    loss = torch.norm(net(a) - v0) ** 2 * dt\n",
    "    a.retain_grad()\n",
    "    loss.backward()    \n",
    "    \n",
    "    a_train.append(a.detach())\n",
    "    agrad_train.append(a.grad.detach())\n",
    "    \n",
    "    a = a - 0.01*a.grad\n",
    "    a.grad = None\n",
    "    \n",
    "\n",
    "v = net(a).detach()\n",
    " \n",
    "x, y = torch.real(z), torch.imag(z)\n",
    "ux, uy = torch.real(v.squeeze()), torch.imag(v.squeeze())\n",
    "ux0, uy0 = torch.real(v0.squeeze()), torch.imag(v0.squeeze())\n"
   ]
  },
  {
   "cell_type": "code",
   "execution_count": 12,
   "id": "9ddf6cb4",
   "metadata": {},
   "outputs": [
    {
     "ename": "TypeError",
     "evalue": "can't multiply sequence by non-int of type 'float'",
     "output_type": "error",
     "traceback": [
      "\u001b[0;31m---------------------------------------------------------------------------\u001b[0m",
      "\u001b[0;31mTypeError\u001b[0m                                 Traceback (most recent call last)",
      "Input \u001b[0;32mIn [12]\u001b[0m, in \u001b[0;36m<module>\u001b[0;34m\u001b[0m\n\u001b[0;32m----> 1\u001b[0m plt\u001b[38;5;241m.\u001b[39mplot(alist, \u001b[43mgrads\u001b[49m\u001b[43m \u001b[49m\u001b[38;5;241;43m*\u001b[39;49m\u001b[43m \u001b[49m\u001b[43mdt\u001b[49m)\n\u001b[1;32m      2\u001b[0m plt\u001b[38;5;241m.\u001b[39mscatter(a_train, agrad_train)\n\u001b[1;32m      3\u001b[0m plt\u001b[38;5;241m.\u001b[39mplot(alist, \u001b[38;5;241m4\u001b[39m \u001b[38;5;241m*\u001b[39m np\u001b[38;5;241m.\u001b[39mcumsum(np\u001b[38;5;241m.\u001b[39marray(grads))\u001b[38;5;241m*\u001b[39mdt)\n",
      "\u001b[0;31mTypeError\u001b[0m: can't multiply sequence by non-int of type 'float'"
     ]
    }
   ],
   "source": [
    "    \n",
    "plt.plot(alist, grads * dt)\n",
    "plt.scatter(a_train, agrad_train)\n",
    "plt.plot(alist, 4 * np.cumsum(np.array(grads))*dt)\n",
    "plt.plot(alist, 0*alist)\n",
    "\n",
    "\n",
    "plt.figure()\n",
    "\n",
    "plt.plot(x, y)\n",
    "plt.quiver(x, y, ux0, uy0, color = 'red', scale=10)\n",
    "plt.quiver(x, y, ux, uy)\n",
    "plt.axis(\"equal\")"
   ]
  },
  {
   "cell_type": "code",
   "execution_count": null,
   "id": "cbb72569",
   "metadata": {},
   "outputs": [],
   "source": []
  }
 ],
 "metadata": {
  "kernelspec": {
   "display_name": "Fenics and Physics informed ML",
   "language": "python",
   "name": "fenicsproject"
  },
  "language_info": {
   "codemirror_mode": {
    "name": "ipython",
    "version": 3
   },
   "file_extension": ".py",
   "mimetype": "text/x-python",
   "name": "python",
   "nbconvert_exporter": "python",
   "pygments_lexer": "ipython3",
   "version": "3.8.12"
  }
 },
 "nbformat": 4,
 "nbformat_minor": 5
}
